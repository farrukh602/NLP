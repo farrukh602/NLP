{
  "nbformat": 4,
  "nbformat_minor": 0,
  "metadata": {
    "colab": {
      "provenance": [],
      "authorship_tag": "ABX9TyNBLXkD83+XdpTPTZ/jrKl9"
    },
    "kernelspec": {
      "name": "python3",
      "display_name": "Python 3"
    },
    "language_info": {
      "name": "python"
    }
  },
  "cells": [
    {
      "cell_type": "code",
      "execution_count": 4,
      "metadata": {
        "id": "yYcq0EdIWYmO",
        "outputId": "29c7b5c6-2411-447f-e528-6b3bced25b02",
        "colab": {
          "base_uri": "https://localhost:8080/"
        }
      },
      "outputs": [
        {
          "output_type": "stream",
          "name": "stderr",
          "text": [
            "[nltk_data] Downloading package punkt to /root/nltk_data...\n",
            "[nltk_data]   Unzipping tokenizers/punkt.zip.\n"
          ]
        },
        {
          "output_type": "execute_result",
          "data": {
            "text/plain": [
              "True"
            ]
          },
          "metadata": {},
          "execution_count": 4
        }
      ],
      "source": [
        "from nltk import sent_tokenize, word_tokenize\n",
        "import nltk\n",
        "nltk.download('punkt')\n"
      ]
    },
    {
      "cell_type": "code",
      "source": [
        "text=\"\"\"The morals of the Arabs were corrupted and they\n",
        "were obsessed with drinking and gambling. Their cruelty\n",
        "and so-called zeal reached the point where they buried\n",
        "baby girls alive. Raiding was widespread as well as\n",
        "highway robbery against trading caravans. The position\n",
        "of women in society was so low that they could be\n",
        "inherited like property or animals. Children were\n",
        "murdered because their parents feared the poverty that\n",
        "would come from raising them.\"\"\"\n",
        "sent_tokens=sent_tokenize(text)\n",
        "sent_tokens"
      ],
      "metadata": {
        "id": "kMa8ldmnWd70",
        "outputId": "79a750c2-8713-4275-b80c-6b4c40d19c13",
        "colab": {
          "base_uri": "https://localhost:8080/"
        }
      },
      "execution_count": 5,
      "outputs": [
        {
          "output_type": "execute_result",
          "data": {
            "text/plain": [
              "['The morals of the Arabs were corrupted and they \\nwere obsessed with drinking and gambling.',\n",
              " 'Their cruelty \\nand so-called zeal reached the point where they buried \\nbaby girls alive.',\n",
              " 'Raiding was widespread as well as \\nhighway robbery against trading caravans.',\n",
              " 'The position \\nof women in society was so low that they could be \\ninherited like property or animals.',\n",
              " 'Children were \\nmurdered because their parents feared the poverty that \\nwould come from raising them.']"
            ]
          },
          "metadata": {},
          "execution_count": 5
        }
      ]
    },
    {
      "cell_type": "code",
      "source": [
        "word_tokens = word_tokenize(sent_tokens[0])\n",
        "word_tokens"
      ],
      "metadata": {
        "id": "abst25wfEiPb",
        "outputId": "08603f6c-5cca-49ff-d837-590117262582",
        "colab": {
          "base_uri": "https://localhost:8080/"
        }
      },
      "execution_count": 8,
      "outputs": [
        {
          "output_type": "execute_result",
          "data": {
            "text/plain": [
              "['The',\n",
              " 'morals',\n",
              " 'of',\n",
              " 'the',\n",
              " 'Arabs',\n",
              " 'were',\n",
              " 'corrupted',\n",
              " 'and',\n",
              " 'they',\n",
              " 'were',\n",
              " 'obsessed',\n",
              " 'with',\n",
              " 'drinking',\n",
              " 'and',\n",
              " 'gambling',\n",
              " '.']"
            ]
          },
          "metadata": {},
          "execution_count": 8
        }
      ]
    },
    {
      "cell_type": "code",
      "source": [
        "# Removing the stop words\n",
        "nltk.download('stopwords')\n",
        "from nltk.corpus import stopwords\n"
      ],
      "metadata": {
        "id": "uzX7VdBMGvMN",
        "outputId": "e311d92b-3ead-4e66-9239-c50ec29ea1c1",
        "colab": {
          "base_uri": "https://localhost:8080/"
        }
      },
      "execution_count": 10,
      "outputs": [
        {
          "output_type": "stream",
          "name": "stderr",
          "text": [
            "[nltk_data] Downloading package stopwords to /root/nltk_data...\n",
            "[nltk_data]   Unzipping corpora/stopwords.zip.\n"
          ]
        }
      ]
    },
    {
      "cell_type": "code",
      "source": [
        "quote=\"\"\"\"Life is like riding a bicycle. To keep your balance, you must keep moving!\" - XYZ\"\"\"\n",
        "quote"
      ],
      "metadata": {
        "id": "4PpPI3-jHuYC",
        "outputId": "c9f4296c-5f39-4009-cd9a-522e6f8ccb0f",
        "colab": {
          "base_uri": "https://localhost:8080/",
          "height": 36
        }
      },
      "execution_count": 13,
      "outputs": [
        {
          "output_type": "execute_result",
          "data": {
            "text/plain": [
              "'\"Life is like riding a bicycle. To keep your balance, you must keep moving!\" - XYZ'"
            ],
            "application/vnd.google.colaboratory.intrinsic+json": {
              "type": "string"
            }
          },
          "metadata": {},
          "execution_count": 13
        }
      ]
    },
    {
      "cell_type": "code",
      "source": [
        "words_in_quote=word_tokenize(quote)\n",
        "words_in_quote"
      ],
      "metadata": {
        "id": "E4i2T--6I57W",
        "outputId": "6fa4434e-970a-4be5-88cb-aa35632baa63",
        "colab": {
          "base_uri": "https://localhost:8080/"
        }
      },
      "execution_count": 15,
      "outputs": [
        {
          "output_type": "execute_result",
          "data": {
            "text/plain": [
              "['``',\n",
              " 'Life',\n",
              " 'is',\n",
              " 'like',\n",
              " 'riding',\n",
              " 'a',\n",
              " 'bicycle',\n",
              " '.',\n",
              " 'To',\n",
              " 'keep',\n",
              " 'your',\n",
              " 'balance',\n",
              " ',',\n",
              " 'you',\n",
              " 'must',\n",
              " 'keep',\n",
              " 'moving',\n",
              " '!',\n",
              " \"''\",\n",
              " '-',\n",
              " 'XYZ']"
            ]
          },
          "metadata": {},
          "execution_count": 15
        }
      ]
    },
    {
      "cell_type": "code",
      "source": [],
      "metadata": {
        "id": "pSkffSNIJUJr"
      },
      "execution_count": null,
      "outputs": []
    }
  ]
}