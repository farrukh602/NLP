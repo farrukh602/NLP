{
  "nbformat": 4,
  "nbformat_minor": 0,
  "metadata": {
    "colab": {
      "provenance": [],
      "authorship_tag": "ABX9TyNp7HwP11fBy1ysbE+oIytu"
    },
    "kernelspec": {
      "name": "python3",
      "display_name": "Python 3"
    },
    "language_info": {
      "name": "python"
    }
  },
  "cells": [
    {
      "cell_type": "code",
      "execution_count": null,
      "metadata": {
        "id": "yYcq0EdIWYmO",
        "outputId": "29c7b5c6-2411-447f-e528-6b3bced25b02",
        "colab": {
          "base_uri": "https://localhost:8080/"
        }
      },
      "outputs": [
        {
          "output_type": "stream",
          "name": "stderr",
          "text": [
            "[nltk_data] Downloading package punkt to /root/nltk_data...\n",
            "[nltk_data]   Unzipping tokenizers/punkt.zip.\n"
          ]
        },
        {
          "output_type": "execute_result",
          "data": {
            "text/plain": [
              "True"
            ]
          },
          "metadata": {},
          "execution_count": 4
        }
      ],
      "source": [
        "from nltk import sent_tokenize, word_tokenize\n",
        "import nltk\n",
        "nltk.download('punkt')\n"
      ]
    },
    {
      "cell_type": "code",
      "source": [
        "text=\"\"\"The morals of the Arabs were corrupted and they\n",
        "were obsessed with drinking and gambling. Their cruelty\n",
        "and so-called zeal reached the point where they buried\n",
        "baby girls alive. Raiding was widespread as well as\n",
        "highway robbery against trading caravans. The position\n",
        "of women in society was so low that they could be\n",
        "inherited like property or animals. Children were\n",
        "murdered because their parents feared the poverty that\n",
        "would come from raising them.\"\"\"\n",
        "sent_tokens=sent_tokenize(text)\n",
        "sent_tokens"
      ],
      "metadata": {
        "id": "kMa8ldmnWd70",
        "outputId": "79a750c2-8713-4275-b80c-6b4c40d19c13",
        "colab": {
          "base_uri": "https://localhost:8080/"
        }
      },
      "execution_count": null,
      "outputs": [
        {
          "output_type": "execute_result",
          "data": {
            "text/plain": [
              "['The morals of the Arabs were corrupted and they \\nwere obsessed with drinking and gambling.',\n",
              " 'Their cruelty \\nand so-called zeal reached the point where they buried \\nbaby girls alive.',\n",
              " 'Raiding was widespread as well as \\nhighway robbery against trading caravans.',\n",
              " 'The position \\nof women in society was so low that they could be \\ninherited like property or animals.',\n",
              " 'Children were \\nmurdered because their parents feared the poverty that \\nwould come from raising them.']"
            ]
          },
          "metadata": {},
          "execution_count": 5
        }
      ]
    },
    {
      "cell_type": "code",
      "source": [
        "word_tokens = word_tokenize(sent_tokens[0])\n",
        "word_tokens"
      ],
      "metadata": {
        "id": "abst25wfEiPb",
        "outputId": "08603f6c-5cca-49ff-d837-590117262582",
        "colab": {
          "base_uri": "https://localhost:8080/"
        }
      },
      "execution_count": null,
      "outputs": [
        {
          "output_type": "execute_result",
          "data": {
            "text/plain": [
              "['The',\n",
              " 'morals',\n",
              " 'of',\n",
              " 'the',\n",
              " 'Arabs',\n",
              " 'were',\n",
              " 'corrupted',\n",
              " 'and',\n",
              " 'they',\n",
              " 'were',\n",
              " 'obsessed',\n",
              " 'with',\n",
              " 'drinking',\n",
              " 'and',\n",
              " 'gambling',\n",
              " '.']"
            ]
          },
          "metadata": {},
          "execution_count": 8
        }
      ]
    },
    {
      "cell_type": "markdown",
      "source": [
        "# Removing the stop words"
      ],
      "metadata": {
        "id": "SsXeH4smJ9u1"
      }
    },
    {
      "cell_type": "code",
      "source": [
        "# Removing the stop words\n",
        "nltk.download('stopwords')\n",
        "from nltk.corpus import stopwords"
      ],
      "metadata": {
        "id": "uzX7VdBMGvMN",
        "outputId": "e311d92b-3ead-4e66-9239-c50ec29ea1c1",
        "colab": {
          "base_uri": "https://localhost:8080/"
        }
      },
      "execution_count": null,
      "outputs": [
        {
          "output_type": "stream",
          "name": "stderr",
          "text": [
            "[nltk_data] Downloading package stopwords to /root/nltk_data...\n",
            "[nltk_data]   Unzipping corpora/stopwords.zip.\n"
          ]
        }
      ]
    },
    {
      "cell_type": "code",
      "source": [
        "quote=\"\"\"\"Life is like riding a bicycle. To keep your balance, you must keep moving!\" - XYZ\"\"\"\n",
        "words_in_quote=word_tokenize(quote)\n",
        "\n",
        "# list of stopwords in nltk\n",
        "stop_words = stopwords.words('english')\n",
        "[x for x in words_in_quote if x in stop_words]"
      ],
      "metadata": {
        "id": "4PpPI3-jHuYC",
        "outputId": "1fd1f9c6-30de-40fb-c05d-2fbae8c4eab2",
        "colab": {
          "base_uri": "https://localhost:8080/"
        }
      },
      "execution_count": 38,
      "outputs": [
        {
          "output_type": "execute_result",
          "data": {
            "text/plain": [
              "['is', 'a', 'your', 'you']"
            ]
          },
          "metadata": {},
          "execution_count": 38
        }
      ]
    },
    {
      "cell_type": "code",
      "source": [
        "stop_words=stopwords.words('english')"
      ],
      "metadata": {
        "id": "E4i2T--6I57W",
        "outputId": "ffc0a1aa-b076-4aa7-bb89-a7b58accc0d8",
        "colab": {
          "base_uri": "https://localhost:8080/"
        }
      },
      "execution_count": 29,
      "outputs": [
        {
          "output_type": "execute_result",
          "data": {
            "text/plain": [
              "179"
            ]
          },
          "metadata": {},
          "execution_count": 29
        }
      ]
    },
    {
      "cell_type": "code",
      "source": [
        "words_in_quote[4].casefold()"
      ],
      "metadata": {
        "id": "pSkffSNIJUJr",
        "outputId": "ffea0914-2338-4cb4-995e-689b1de793b4",
        "colab": {
          "base_uri": "https://localhost:8080/",
          "height": 36
        }
      },
      "execution_count": 33,
      "outputs": [
        {
          "output_type": "execute_result",
          "data": {
            "text/plain": [
              "'riding'"
            ],
            "application/vnd.google.colaboratory.intrinsic+json": {
              "type": "string"
            }
          },
          "metadata": {},
          "execution_count": 33
        }
      ]
    },
    {
      "cell_type": "code",
      "source": [
        "a='aasdf'\n",
        "a.casefold()"
      ],
      "metadata": {
        "id": "Sv71nThXNi7a",
        "outputId": "3953cf89-e8be-4960-ae00-396c35ae8d87",
        "colab": {
          "base_uri": "https://localhost:8080/",
          "height": 36
        }
      },
      "execution_count": 34,
      "outputs": [
        {
          "output_type": "execute_result",
          "data": {
            "text/plain": [
              "'aasdf'"
            ],
            "application/vnd.google.colaboratory.intrinsic+json": {
              "type": "string"
            }
          },
          "metadata": {},
          "execution_count": 34
        }
      ]
    },
    {
      "cell_type": "code",
      "source": [],
      "metadata": {
        "id": "51MdObO8NzO6"
      },
      "execution_count": null,
      "outputs": []
    }
  ]
}