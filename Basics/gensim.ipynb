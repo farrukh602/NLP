{
  "cells": [
    {
      "cell_type": "code",
      "execution_count": 1,
      "id": "e75a6150-20c8-46eb-84e4-dfc838eb9f50",
      "metadata": {
        "id": "e75a6150-20c8-46eb-84e4-dfc838eb9f50"
      },
      "outputs": [],
      "source": [
        "import gensim"
      ]
    },
    {
      "cell_type": "code",
      "execution_count": 2,
      "id": "2af625dc-79f2-4a83-9269-4f948ba68234",
      "metadata": {
        "id": "2af625dc-79f2-4a83-9269-4f948ba68234"
      },
      "outputs": [],
      "source": [
        "text_corpus = [\n",
        "    \"Human machine interface for lab abc computer applications\",\n",
        "    \"A survey of user opinion of computer system response time\",\n",
        "    \"The EPS user interface management system\",\n",
        "    \"System and human system engineering testing of EPS\",\n",
        "    \"Relation of user perceived response time to error measurement\",\n",
        "    \"The generation of random binary unordered trees\",\n",
        "    \"The intersection graph of paths in trees\",\n",
        "    \"Graph minors IV Widths of trees and well quasi ordering\",\n",
        "    \"Graph minors A survey\",\n",
        "]"
      ]
    },
    {
      "cell_type": "code",
      "source": [
        "stoplist = set('for a of the to in'.split(' '))\n",
        "#lowercase each document, split it by white space and filter stopwords\n",
        "texts = [[word for word in document.lower().split() if word not in stoplist] for document in text_corpus]\n",
        "\n",
        "# Count word frequencies\n",
        "# from collections import defaultdict\n",
        "texts"
      ],
      "metadata": {
        "id": "0mxXIQZa3kSR",
        "outputId": "aeceb97e-7d3b-48d0-8b5d-c4a963292111",
        "colab": {
          "base_uri": "https://localhost:8080/"
        }
      },
      "id": "0mxXIQZa3kSR",
      "execution_count": 17,
      "outputs": [
        {
          "output_type": "execute_result",
          "data": {
            "text/plain": [
              "[['human', 'machine', 'interface', 'lab', 'abc', 'computer', 'applications'],\n",
              " ['survey', 'user', 'opinion', 'computer', 'system', 'response', 'time'],\n",
              " ['eps', 'user', 'interface', 'management', 'system'],\n",
              " ['system', 'and', 'human', 'system', 'engineering', 'testing', 'eps'],\n",
              " ['relation', 'user', 'perceived', 'response', 'time', 'error', 'measurement'],\n",
              " ['generation', 'random', 'binary', 'unordered', 'trees'],\n",
              " ['intersection', 'graph', 'paths', 'trees'],\n",
              " ['graph',\n",
              "  'minors',\n",
              "  'iv',\n",
              "  'widths',\n",
              "  'trees',\n",
              "  'and',\n",
              "  'well',\n",
              "  'quasi',\n",
              "  'ordering'],\n",
              " ['graph', 'minors', 'survey']]"
            ]
          },
          "metadata": {},
          "execution_count": 17
        }
      ]
    },
    {
      "cell_type": "code",
      "source": [],
      "metadata": {
        "id": "ElLWAcbn4XGM"
      },
      "id": "ElLWAcbn4XGM",
      "execution_count": null,
      "outputs": []
    }
  ],
  "metadata": {
    "kernelspec": {
      "display_name": "Python 3 (ipykernel)",
      "language": "python",
      "name": "python3"
    },
    "language_info": {
      "codemirror_mode": {
        "name": "ipython",
        "version": 3
      },
      "file_extension": ".py",
      "mimetype": "text/x-python",
      "name": "python",
      "nbconvert_exporter": "python",
      "pygments_lexer": "ipython3",
      "version": "3.12.2"
    },
    "colab": {
      "provenance": []
    }
  },
  "nbformat": 4,
  "nbformat_minor": 5
}