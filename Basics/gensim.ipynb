{
  "cells": [
    {
      "cell_type": "code",
      "execution_count": 16,
      "id": "e75a6150-20c8-46eb-84e4-dfc838eb9f50",
      "metadata": {
        "id": "e75a6150-20c8-46eb-84e4-dfc838eb9f50"
      },
      "outputs": [],
      "source": [
        "import gensim\n",
        "import numpy as np"
      ]
    },
    {
      "cell_type": "code",
      "execution_count": 21,
      "id": "2af625dc-79f2-4a83-9269-4f948ba68234",
      "metadata": {
        "id": "2af625dc-79f2-4a83-9269-4f948ba68234"
      },
      "outputs": [],
      "source": [
        "text_corpus = [\n",
        "    \"Human and human machine interface for lab abc computer applications\",\n",
        "    \"A survey of user opinion of computer system response time\",\n",
        "    \"The EPS user interface management system\",\n",
        "    \"System and human system engineering testing of EPS\",\n",
        "    \"Relation of user perceived response time to error measurement\",\n",
        "    \"The generation of random binary unordered trees\",\n",
        "    \"The intersection graph of paths in trees\",\n",
        "    \"Graph minors IV Widths of trees and well quasi ordering\",\n",
        "    \"Graph minors A survey\",\n",
        "]"
      ]
    },
    {
      "cell_type": "code",
      "source": [
        "stoplist = set('for a of the to in'.split(' '))\n",
        "#lowercase each document, split it by white space and filter stopwords\n",
        "texts = [[word for word in document.lower().split() if word not in stoplist] for document in text_corpus]\n",
        "texts"
      ],
      "metadata": {
        "id": "0mxXIQZa3kSR",
        "outputId": "e02b7aa5-bdd6-46e6-83f7-92dcc76815d0",
        "colab": {
          "base_uri": "https://localhost:8080/"
        }
      },
      "id": "0mxXIQZa3kSR",
      "execution_count": 22,
      "outputs": [
        {
          "output_type": "execute_result",
          "data": {
            "text/plain": [
              "[['human',\n",
              "  'and',\n",
              "  'human',\n",
              "  'machine',\n",
              "  'interface',\n",
              "  'lab',\n",
              "  'abc',\n",
              "  'computer',\n",
              "  'applications'],\n",
              " ['survey', 'user', 'opinion', 'computer', 'system', 'response', 'time'],\n",
              " ['eps', 'user', 'interface', 'management', 'system'],\n",
              " ['system', 'and', 'human', 'system', 'engineering', 'testing', 'eps'],\n",
              " ['relation', 'user', 'perceived', 'response', 'time', 'error', 'measurement'],\n",
              " ['generation', 'random', 'binary', 'unordered', 'trees'],\n",
              " ['intersection', 'graph', 'paths', 'trees'],\n",
              " ['graph',\n",
              "  'minors',\n",
              "  'iv',\n",
              "  'widths',\n",
              "  'trees',\n",
              "  'and',\n",
              "  'well',\n",
              "  'quasi',\n",
              "  'ordering'],\n",
              " ['graph', 'minors', 'survey']]"
            ]
          },
          "metadata": {},
          "execution_count": 22
        }
      ]
    },
    {
      "cell_type": "code",
      "source": [
        "# count word frequencies\n",
        "from collections import defaultdict\n",
        "\n",
        "frequency = defaultdict(int)\n",
        "for text in texts:\n",
        "  for token in text:\n",
        "    frequency[token]+=1\n",
        "\n",
        "# Keep the words that appear more than once\n",
        "processed_corpus = [[token for token in tokens if frequency[token]>1] for tokens in texts]"
      ],
      "metadata": {
        "id": "ElLWAcbn4XGM"
      },
      "id": "ElLWAcbn4XGM",
      "execution_count": 23,
      "outputs": []
    },
    {
      "cell_type": "code",
      "source": [
        "processed_corpus"
      ],
      "metadata": {
        "id": "XuGNY3OehrIv",
        "outputId": "d777f30b-8e13-4f19-d686-b258406ea22f",
        "colab": {
          "base_uri": "https://localhost:8080/"
        }
      },
      "id": "XuGNY3OehrIv",
      "execution_count": 24,
      "outputs": [
        {
          "output_type": "execute_result",
          "data": {
            "text/plain": [
              "[['human', 'and', 'human', 'interface', 'computer'],\n",
              " ['survey', 'user', 'computer', 'system', 'response', 'time'],\n",
              " ['eps', 'user', 'interface', 'system'],\n",
              " ['system', 'and', 'human', 'system', 'eps'],\n",
              " ['user', 'response', 'time'],\n",
              " ['trees'],\n",
              " ['graph', 'trees'],\n",
              " ['graph', 'minors', 'trees', 'and'],\n",
              " ['graph', 'minors', 'survey']]"
            ]
          },
          "metadata": {},
          "execution_count": 24
        }
      ]
    },
    {
      "cell_type": "code",
      "source": [
        "# before proceeding, we need to associate each word in the\n",
        "# corpus with a unique integer ID. We can do this using the gensim.corpora.Dictionary\n",
        "from gensim import corpora\n",
        "dictionary= gensim.corpora.Dictionary(documents=processed_corpus, prune_at=1)\n",
        "print(dictionary)"
      ],
      "metadata": {
        "id": "-0w1smrPfvi2",
        "outputId": "dd049766-f35d-49b7-bf6d-5a2097dae87d",
        "colab": {
          "base_uri": "https://localhost:8080/"
        }
      },
      "id": "-0w1smrPfvi2",
      "execution_count": 42,
      "outputs": [
        {
          "output_type": "stream",
          "name": "stdout",
          "text": [
            "Dictionary<13 unique tokens: ['and', 'computer', 'human', 'interface', 'response']...>\n"
          ]
        }
      ]
    },
    {
      "cell_type": "code",
      "source": [
        "print(dictionary.token2id) # a 12 dimensional vector"
      ],
      "metadata": {
        "id": "uU3eIHcZtfjR",
        "outputId": "a4d55011-93f5-4a23-f67e-510670d16f71",
        "colab": {
          "base_uri": "https://localhost:8080/"
        }
      },
      "id": "uU3eIHcZtfjR",
      "execution_count": 43,
      "outputs": [
        {
          "output_type": "stream",
          "name": "stdout",
          "text": [
            "{'and': 0, 'computer': 1, 'human': 2, 'interface': 3, 'response': 4, 'survey': 5, 'system': 6, 'time': 7, 'user': 8, 'eps': 9, 'trees': 10, 'graph': 11, 'minors': 12}\n"
          ]
        }
      ]
    },
    {
      "cell_type": "code",
      "source": [
        "# vectorize a new phrase\n",
        "new_doc= 'Human and computer used in survey INterface'\n",
        "new_doc_normalized = new_doc.lower().split()\n",
        "new_vec = dictionary.doc2bow(new_doc_normalized)\n",
        "new_vec"
      ],
      "metadata": {
        "id": "pEI_c95bUZnM",
        "outputId": "47090136-35f3-49b2-da31-9e0c88f09d9f",
        "colab": {
          "base_uri": "https://localhost:8080/"
        }
      },
      "id": "pEI_c95bUZnM",
      "execution_count": 50,
      "outputs": [
        {
          "output_type": "execute_result",
          "data": {
            "text/plain": [
              "[(0, 1), (1, 1), (2, 1), (3, 1), (5, 1)]"
            ]
          },
          "metadata": {},
          "execution_count": 50
        }
      ]
    },
    {
      "cell_type": "code",
      "source": [
        "# we can convert our entire original corpus to a list of vectors\n",
        "bow_corpus = [dictionary.doc2bow(doc) for doc in processed_corpus]"
      ],
      "metadata": {
        "id": "WLjmeg3MVKuD"
      },
      "id": "WLjmeg3MVKuD",
      "execution_count": 51,
      "outputs": []
    },
    {
      "cell_type": "code",
      "source": [
        "bow_corpus"
      ],
      "metadata": {
        "id": "UvythQv8WPhH",
        "outputId": "8751c8b2-935b-4010-b0db-333e9c4168c0",
        "colab": {
          "base_uri": "https://localhost:8080/"
        }
      },
      "id": "UvythQv8WPhH",
      "execution_count": 52,
      "outputs": [
        {
          "output_type": "execute_result",
          "data": {
            "text/plain": [
              "[[(0, 1), (1, 1), (2, 2), (3, 1)],\n",
              " [(1, 1), (4, 1), (5, 1), (6, 1), (7, 1), (8, 1)],\n",
              " [(3, 1), (6, 1), (8, 1), (9, 1)],\n",
              " [(0, 1), (2, 1), (6, 2), (9, 1)],\n",
              " [(4, 1), (7, 1), (8, 1)],\n",
              " [(10, 1)],\n",
              " [(10, 1), (11, 1)],\n",
              " [(0, 1), (10, 1), (11, 1), (12, 1)],\n",
              " [(5, 1), (11, 1), (12, 1)]]"
            ]
          },
          "metadata": {},
          "execution_count": 52
        }
      ]
    },
    {
      "cell_type": "code",
      "source": [],
      "metadata": {
        "id": "isK1wp9rYY9v"
      },
      "id": "isK1wp9rYY9v",
      "execution_count": null,
      "outputs": []
    }
  ],
  "metadata": {
    "kernelspec": {
      "display_name": "Python 3 (ipykernel)",
      "language": "python",
      "name": "python3"
    },
    "language_info": {
      "codemirror_mode": {
        "name": "ipython",
        "version": 3
      },
      "file_extension": ".py",
      "mimetype": "text/x-python",
      "name": "python",
      "nbconvert_exporter": "python",
      "pygments_lexer": "ipython3",
      "version": "3.12.2"
    },
    "colab": {
      "provenance": []
    }
  },
  "nbformat": 4,
  "nbformat_minor": 5
}