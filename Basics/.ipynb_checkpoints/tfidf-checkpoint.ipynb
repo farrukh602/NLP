{
 "cells": [
  {
   "cell_type": "markdown",
   "id": "a12c4e72-36ce-47bb-afef-355a46c0c1e2",
   "metadata": {},
   "source": [
    "###  Introduction\n",
    "TF IDF is a popular technique in natural language processing which measures the importance of a term in a document relative to whole corpus. By this technique, words with in a document are transformed in to importance numbers by a text vectorization process. \n",
    "Main Idea: Vectorize/score a word by multiplying the word's Term Frequency (TF) with Inverse Document Frequency(IDF):\n",
    "Related Formulae:\n",
    " 1. TF = f_term/ n_terms\n",
    "     f_term = number/frequency of the term to appear in a particular document\n",
    "     n_terms = total number of terms in that document\n",
    " 2. IDF\n",
    "    IDF of a term reflects the proportion of documents in the corpus that contain the term. It is a way of weighting more the unique/less freqeunt terms in the corpus and weighting less to frequently occuring words like is, and, the etc.\n",
    "    IDF = log(Number of documents in the corpus/ Number of documents in the corpus containg a particular term)\n",
    "\n"
   ]
  },
  {
   "cell_type": "code",
   "execution_count": null,
   "id": "1ab82e91-9978-4db5-98e1-4ae0f44d7847",
   "metadata": {},
   "outputs": [],
   "source": []
  }
 ],
 "metadata": {
  "kernelspec": {
   "display_name": "Python 3 (ipykernel)",
   "language": "python",
   "name": "python3"
  },
  "language_info": {
   "codemirror_mode": {
    "name": "ipython",
    "version": 3
   },
   "file_extension": ".py",
   "mimetype": "text/x-python",
   "name": "python",
   "nbconvert_exporter": "python",
   "pygments_lexer": "ipython3",
   "version": "3.12.2"
  }
 },
 "nbformat": 4,
 "nbformat_minor": 5
}
