{
  "nbformat": 4,
  "nbformat_minor": 0,
  "metadata": {
    "colab": {
      "provenance": [],
      "mount_file_id": "https://github.com/farrukh602/NLP/blob/main/Basics/sincerity_insincerity_classification.ipynb",
      "authorship_tag": "ABX9TyOIeXKfotSnNmaavXPXU5Xk"
    },
    "kernelspec": {
      "name": "python3",
      "display_name": "Python 3"
    },
    "language_info": {
      "name": "python"
    }
  },
  "cells": [
    {
      "cell_type": "markdown",
      "source": [
        "## Data download"
      ],
      "metadata": {
        "id": "LSGg4A05Gvjc"
      }
    },
    {
      "cell_type": "code",
      "execution_count": 18,
      "metadata": {
        "id": "yiMRGbrGDlVp",
        "outputId": "3e7b1843-5ce8-48d6-c5f4-21ed84f775ce",
        "colab": {
          "base_uri": "https://localhost:8080/",
          "height": 127
        }
      },
      "outputs": [
        {
          "output_type": "display_data",
          "data": {
            "text/plain": [
              "<IPython.core.display.HTML object>"
            ],
            "text/html": [
              "\n",
              "     <input type=\"file\" id=\"files-c69bf9b8-489f-4ec9-a3d3-34867bf94270\" name=\"files[]\" multiple disabled\n",
              "        style=\"border:none\" />\n",
              "     <output id=\"result-c69bf9b8-489f-4ec9-a3d3-34867bf94270\">\n",
              "      Upload widget is only available when the cell has been executed in the\n",
              "      current browser session. Please rerun this cell to enable.\n",
              "      </output>\n",
              "      <script>// Copyright 2017 Google LLC\n",
              "//\n",
              "// Licensed under the Apache License, Version 2.0 (the \"License\");\n",
              "// you may not use this file except in compliance with the License.\n",
              "// You may obtain a copy of the License at\n",
              "//\n",
              "//      http://www.apache.org/licenses/LICENSE-2.0\n",
              "//\n",
              "// Unless required by applicable law or agreed to in writing, software\n",
              "// distributed under the License is distributed on an \"AS IS\" BASIS,\n",
              "// WITHOUT WARRANTIES OR CONDITIONS OF ANY KIND, either express or implied.\n",
              "// See the License for the specific language governing permissions and\n",
              "// limitations under the License.\n",
              "\n",
              "/**\n",
              " * @fileoverview Helpers for google.colab Python module.\n",
              " */\n",
              "(function(scope) {\n",
              "function span(text, styleAttributes = {}) {\n",
              "  const element = document.createElement('span');\n",
              "  element.textContent = text;\n",
              "  for (const key of Object.keys(styleAttributes)) {\n",
              "    element.style[key] = styleAttributes[key];\n",
              "  }\n",
              "  return element;\n",
              "}\n",
              "\n",
              "// Max number of bytes which will be uploaded at a time.\n",
              "const MAX_PAYLOAD_SIZE = 100 * 1024;\n",
              "\n",
              "function _uploadFiles(inputId, outputId) {\n",
              "  const steps = uploadFilesStep(inputId, outputId);\n",
              "  const outputElement = document.getElementById(outputId);\n",
              "  // Cache steps on the outputElement to make it available for the next call\n",
              "  // to uploadFilesContinue from Python.\n",
              "  outputElement.steps = steps;\n",
              "\n",
              "  return _uploadFilesContinue(outputId);\n",
              "}\n",
              "\n",
              "// This is roughly an async generator (not supported in the browser yet),\n",
              "// where there are multiple asynchronous steps and the Python side is going\n",
              "// to poll for completion of each step.\n",
              "// This uses a Promise to block the python side on completion of each step,\n",
              "// then passes the result of the previous step as the input to the next step.\n",
              "function _uploadFilesContinue(outputId) {\n",
              "  const outputElement = document.getElementById(outputId);\n",
              "  const steps = outputElement.steps;\n",
              "\n",
              "  const next = steps.next(outputElement.lastPromiseValue);\n",
              "  return Promise.resolve(next.value.promise).then((value) => {\n",
              "    // Cache the last promise value to make it available to the next\n",
              "    // step of the generator.\n",
              "    outputElement.lastPromiseValue = value;\n",
              "    return next.value.response;\n",
              "  });\n",
              "}\n",
              "\n",
              "/**\n",
              " * Generator function which is called between each async step of the upload\n",
              " * process.\n",
              " * @param {string} inputId Element ID of the input file picker element.\n",
              " * @param {string} outputId Element ID of the output display.\n",
              " * @return {!Iterable<!Object>} Iterable of next steps.\n",
              " */\n",
              "function* uploadFilesStep(inputId, outputId) {\n",
              "  const inputElement = document.getElementById(inputId);\n",
              "  inputElement.disabled = false;\n",
              "\n",
              "  const outputElement = document.getElementById(outputId);\n",
              "  outputElement.innerHTML = '';\n",
              "\n",
              "  const pickedPromise = new Promise((resolve) => {\n",
              "    inputElement.addEventListener('change', (e) => {\n",
              "      resolve(e.target.files);\n",
              "    });\n",
              "  });\n",
              "\n",
              "  const cancel = document.createElement('button');\n",
              "  inputElement.parentElement.appendChild(cancel);\n",
              "  cancel.textContent = 'Cancel upload';\n",
              "  const cancelPromise = new Promise((resolve) => {\n",
              "    cancel.onclick = () => {\n",
              "      resolve(null);\n",
              "    };\n",
              "  });\n",
              "\n",
              "  // Wait for the user to pick the files.\n",
              "  const files = yield {\n",
              "    promise: Promise.race([pickedPromise, cancelPromise]),\n",
              "    response: {\n",
              "      action: 'starting',\n",
              "    }\n",
              "  };\n",
              "\n",
              "  cancel.remove();\n",
              "\n",
              "  // Disable the input element since further picks are not allowed.\n",
              "  inputElement.disabled = true;\n",
              "\n",
              "  if (!files) {\n",
              "    return {\n",
              "      response: {\n",
              "        action: 'complete',\n",
              "      }\n",
              "    };\n",
              "  }\n",
              "\n",
              "  for (const file of files) {\n",
              "    const li = document.createElement('li');\n",
              "    li.append(span(file.name, {fontWeight: 'bold'}));\n",
              "    li.append(span(\n",
              "        `(${file.type || 'n/a'}) - ${file.size} bytes, ` +\n",
              "        `last modified: ${\n",
              "            file.lastModifiedDate ? file.lastModifiedDate.toLocaleDateString() :\n",
              "                                    'n/a'} - `));\n",
              "    const percent = span('0% done');\n",
              "    li.appendChild(percent);\n",
              "\n",
              "    outputElement.appendChild(li);\n",
              "\n",
              "    const fileDataPromise = new Promise((resolve) => {\n",
              "      const reader = new FileReader();\n",
              "      reader.onload = (e) => {\n",
              "        resolve(e.target.result);\n",
              "      };\n",
              "      reader.readAsArrayBuffer(file);\n",
              "    });\n",
              "    // Wait for the data to be ready.\n",
              "    let fileData = yield {\n",
              "      promise: fileDataPromise,\n",
              "      response: {\n",
              "        action: 'continue',\n",
              "      }\n",
              "    };\n",
              "\n",
              "    // Use a chunked sending to avoid message size limits. See b/62115660.\n",
              "    let position = 0;\n",
              "    do {\n",
              "      const length = Math.min(fileData.byteLength - position, MAX_PAYLOAD_SIZE);\n",
              "      const chunk = new Uint8Array(fileData, position, length);\n",
              "      position += length;\n",
              "\n",
              "      const base64 = btoa(String.fromCharCode.apply(null, chunk));\n",
              "      yield {\n",
              "        response: {\n",
              "          action: 'append',\n",
              "          file: file.name,\n",
              "          data: base64,\n",
              "        },\n",
              "      };\n",
              "\n",
              "      let percentDone = fileData.byteLength === 0 ?\n",
              "          100 :\n",
              "          Math.round((position / fileData.byteLength) * 100);\n",
              "      percent.textContent = `${percentDone}% done`;\n",
              "\n",
              "    } while (position < fileData.byteLength);\n",
              "  }\n",
              "\n",
              "  // All done.\n",
              "  yield {\n",
              "    response: {\n",
              "      action: 'complete',\n",
              "    }\n",
              "  };\n",
              "}\n",
              "\n",
              "scope.google = scope.google || {};\n",
              "scope.google.colab = scope.google.colab || {};\n",
              "scope.google.colab._files = {\n",
              "  _uploadFiles,\n",
              "  _uploadFilesContinue,\n",
              "};\n",
              "})(self);\n",
              "</script> "
            ]
          },
          "metadata": {}
        },
        {
          "output_type": "stream",
          "name": "stdout",
          "text": [
            "Saving kaggle.json to kaggle.json\n",
            "Downloading quora-insincere-questions-classification.zip to /content\n",
            "100% 6.03G/6.03G [01:20<00:00, 30.2MB/s]\n",
            "100% 6.03G/6.03G [01:20<00:00, 80.4MB/s]\n"
          ]
        }
      ],
      "source": [
        "import os\n",
        "\n",
        "if not os.path.exists('/./embeddings.zip'):\n",
        "  data_set='kaggle competitions download -c quora-insincere-questions-classification'\n",
        "\n",
        "  if not os.path.exists('/./kaggle.json'):\n",
        "    from google.colab import files\n",
        "    files.upload()\n",
        "    !mkdir ~/.kaggle\n",
        "    !cp kaggle.json ~/.kaggle/\n",
        "    !chmod 600 ~/.kaggle/kaggle.json\n",
        "    !{data_set}\n",
        "    !unzip -q quora-insincere-questions-classification\n",
        "  else:\n",
        "    !{data_set}\n",
        "    !unzip quora-insincere-questions-classification.zip"
      ]
    },
    {
      "cell_type": "code",
      "source": [
        "import pandas as pd\n",
        "import matplotlib.pyplot as plt\n",
        "import numpy as np"
      ],
      "metadata": {
        "id": "xxeNG2MbMuWC"
      },
      "execution_count": 11,
      "outputs": []
    },
    {
      "cell_type": "code",
      "source": [
        "class CONFIGURATION:\n",
        "  sample_size=100000\n",
        "\n",
        "config=CONFIGURATION()"
      ],
      "metadata": {
        "id": "2mQRCgynXj7y"
      },
      "execution_count": 12,
      "outputs": []
    },
    {
      "cell_type": "markdown",
      "source": [
        "## Exploring the data"
      ],
      "metadata": {
        "id": "nb-3gSeyL1t2"
      }
    },
    {
      "cell_type": "code",
      "source": [
        "train = pd.read_csv('train.csv')\n",
        "sample_submission = pd.read_csv('sample_submission.csv')"
      ],
      "metadata": {
        "id": "O-71gNVYHxnC"
      },
      "execution_count": 19,
      "outputs": []
    },
    {
      "cell_type": "code",
      "source": [
        "sincere_df = train[train.target==0]\n",
        "insincere_df=train[train.target==1]"
      ],
      "metadata": {
        "id": "zwfxs19nNAJj",
        "outputId": "25acb4cd-84a4-4bd5-d463-146d64fc633d",
        "colab": {
          "base_uri": "https://localhost:8080/",
          "height": 164
        }
      },
      "execution_count": 5,
      "outputs": [
        {
          "output_type": "error",
          "ename": "NameError",
          "evalue": "name 'train' is not defined",
          "traceback": [
            "\u001b[0;31m---------------------------------------------------------------------------\u001b[0m",
            "\u001b[0;31mNameError\u001b[0m                                 Traceback (most recent call last)",
            "\u001b[0;32m<ipython-input-5-3b68f47c5d47>\u001b[0m in \u001b[0;36m<cell line: 1>\u001b[0;34m()\u001b[0m\n\u001b[0;32m----> 1\u001b[0;31m \u001b[0msincere_df\u001b[0m \u001b[0;34m=\u001b[0m \u001b[0mtrain\u001b[0m\u001b[0;34m[\u001b[0m\u001b[0mtrain\u001b[0m\u001b[0;34m.\u001b[0m\u001b[0mtarget\u001b[0m\u001b[0;34m==\u001b[0m\u001b[0;36m0\u001b[0m\u001b[0;34m]\u001b[0m\u001b[0;34m\u001b[0m\u001b[0;34m\u001b[0m\u001b[0m\n\u001b[0m\u001b[1;32m      2\u001b[0m \u001b[0minsincere_df\u001b[0m\u001b[0;34m=\u001b[0m\u001b[0mtrain\u001b[0m\u001b[0;34m[\u001b[0m\u001b[0mtrain\u001b[0m\u001b[0;34m.\u001b[0m\u001b[0mtarget\u001b[0m\u001b[0;34m==\u001b[0m\u001b[0;36m1\u001b[0m\u001b[0;34m]\u001b[0m\u001b[0;34m\u001b[0m\u001b[0;34m\u001b[0m\u001b[0m\n",
            "\u001b[0;31mNameError\u001b[0m: name 'train' is not defined"
          ]
        }
      ]
    },
    {
      "cell_type": "code",
      "source": [
        "sincere_df.question_text.values[10:20]"
      ],
      "metadata": {
        "id": "-RYefSgRNzkW",
        "outputId": "8d269d84-777f-47e5-83a4-7d97ac86e5dd",
        "colab": {
          "base_uri": "https://localhost:8080/"
        }
      },
      "execution_count": null,
      "outputs": [
        {
          "output_type": "execute_result",
          "data": {
            "text/plain": [
              "array(['What can you say about feminism?',\n",
              "       'How were the Calgary Flames founded?',\n",
              "       'What is the dumbest, yet possibly true explanation for Trump being elected?',\n",
              "       'Can we use our external hard disk as a OS as well as for data storage.will the data be affected?',\n",
              "       'I am 30, living at home and have no boyfriend. I would love a boyfriend and my own home. How can I progress my situation?',\n",
              "       'What do you know about Bram Fischer and the Rivonia Trial?',\n",
              "       'How difficult is it to find a good instructor to take a class near you?',\n",
              "       'Have you licked the skin of a corpse?',\n",
              "       'Do you think Amazon will adopt an in house approach to manufacturing similar to the Tesla or Space X business models?',\n",
              "       'How many baronies might exist within a county palatine?'],\n",
              "      dtype=object)"
            ]
          },
          "metadata": {},
          "execution_count": 35
        }
      ]
    },
    {
      "cell_type": "code",
      "source": [
        "insincere_df.question_text.values[10:20]"
      ],
      "metadata": {
        "id": "GfXKsaScONXr",
        "outputId": "81399be4-0924-42ab-ec8b-bcc2d5b744cf",
        "colab": {
          "base_uri": "https://localhost:8080/"
        }
      },
      "execution_count": null,
      "outputs": [
        {
          "output_type": "execute_result",
          "data": {
            "text/plain": [
              "array(['Would Europeans continue to participate in the Arab war for the destruction of Israel and killing all the Jews, if they knew that god himself defends Israel and he will do to Europeans what the Arabs want to do to the Jews?',\n",
              "       'Why are Americans, British, Canadians, Australians and New Zealanders considered to be separate nations even when they all speak the same language?',\n",
              "       'If both Honey Singh and Justin Bieber fall from the 5th floor, who will survive?',\n",
              "       'Why are liberal minorities so voilent towards poeple with diffrent poltical beleifs? Should supporting trump be a sentence to be imprisoned or savegely attacked?',\n",
              "       \"Can we all now admit that President Trump doesn't really want Congress to pass legislation replacing DACA to protect dreamers?\",\n",
              "       'The American economy is growing under Trump’s presidency, why do people still hate Trump as a president?',\n",
              "       \"Why don't poor countries print more money to use for paying for education, etc.?\",\n",
              "       \"Why do all the people who claim Florida has great weather go silent every time there's a new hurricane?\",\n",
              "       \"Could the leader of Iran be dead many years ago and the leader of today's Iran is actually a fake leader?\",\n",
              "       'Why do the Liberals who run schools choose not to have controlled access? The kids in Florida were killed due to an unlocked door.'],\n",
              "      dtype=object)"
            ]
          },
          "metadata": {},
          "execution_count": 36
        }
      ]
    },
    {
      "cell_type": "code",
      "source": [
        "proportion = 100*train.target.value_counts(normalize=True)\n",
        "plt.bar(proportion.index, proportion.values,width=0.2)\n",
        "plt.ylabel('Proporiton (%)')\n",
        "plt.xlabel('Target values')\n",
        "plt.xticks([0,1])\n",
        "plt.show()"
      ],
      "metadata": {
        "id": "_tVyAhrxPkbH",
        "outputId": "7d32eb59-b4cc-4e95-fce2-61801d8ace2b",
        "colab": {
          "base_uri": "https://localhost:8080/",
          "height": 449
        }
      },
      "execution_count": null,
      "outputs": [
        {
          "output_type": "display_data",
          "data": {
            "text/plain": [
              "<Figure size 640x480 with 1 Axes>"
            ],
            "image/png": "[encoded data removed]"
          },
          "metadata": {}
        }
      ]
    },
    {
      "cell_type": "markdown",
      "source": [
        "## Text preprocessing\n",
        "1. Tokenization\n",
        "2. Filtering Stopwords\n",
        "3. Stemming"
      ],
      "metadata": {
        "id": "U1-KBfDhXTz0"
      }
    },
    {
      "cell_type": "code",
      "source": [
        "import nltk\n",
        "from nltk.tokenize import word_tokenize\n",
        "from nltk.corpus import stopwords\n",
        "from nltk.stem.snowball import SnowballStemmer\n",
        "nltk.download('punkt')\n",
        "nltk.download('stopwords')"
      ],
      "metadata": {
        "id": "-R1twGfIdvcU",
        "outputId": "f81c92e1-f674-46eb-ce3e-46aa211d145a",
        "colab": {
          "base_uri": "https://localhost:8080/"
        }
      },
      "execution_count": null,
      "outputs": [
        {
          "output_type": "stream",
          "name": "stderr",
          "text": [
            "[nltk_data] Downloading package punkt to /root/nltk_data...\n",
            "[nltk_data]   Package punkt is already up-to-date!\n",
            "[nltk_data] Downloading package stopwords to /root/nltk_data...\n",
            "[nltk_data]   Package stopwords is already up-to-date!\n"
          ]
        },
        {
          "output_type": "execute_result",
          "data": {
            "text/plain": [
              "True"
            ]
          },
          "metadata": {},
          "execution_count": 67
        }
      ]
    },
    {
      "cell_type": "markdown",
      "source": [
        "#### 1. Tokenization"
      ],
      "metadata": {
        "id": "vAWJu75Vgd4X"
      }
    },
    {
      "cell_type": "code",
      "source": [
        "q0=sincere_df['question_text'].values[0]\n",
        "q1 = insincere_df['question_text'].values[0]"
      ],
      "metadata": {
        "id": "UtQzVA7GfLBi"
      },
      "execution_count": null,
      "outputs": []
    },
    {
      "cell_type": "code",
      "source": [
        "q0_tok = word_tokenize(q0)\n",
        "q1_tok = word_tokenize(q1)"
      ],
      "metadata": {
        "id": "QpN6uv6mfV6H"
      },
      "execution_count": null,
      "outputs": []
    },
    {
      "cell_type": "markdown",
      "source": [
        "#### 2. Filtering Stopwords"
      ],
      "metadata": {
        "id": "Xck1eqEmgY-B"
      }
    },
    {
      "cell_type": "code",
      "source": [
        "english_stopwords = stopwords.words('english')\n",
        "# function to filter out stop words\n",
        "def filter_stopwords(tokens):\n",
        "  return [word for word in tokens if word.lower() not in english_stopwords]"
      ],
      "metadata": {
        "id": "dhCHVbeggMH9"
      },
      "execution_count": null,
      "outputs": []
    },
    {
      "cell_type": "code",
      "source": [
        "q0_stop=filter_stopwords(q0_tok)\n",
        "q1_stop = filter_stopwords(q1_tok)"
      ],
      "metadata": {
        "id": "MM2Rfzg4hK6g"
      },
      "execution_count": null,
      "outputs": []
    },
    {
      "cell_type": "markdown",
      "source": [
        "#### 3. Stemming"
      ],
      "metadata": {
        "id": "5vWs7MjviXue"
      }
    },
    {
      "cell_type": "code",
      "source": [
        "stemmer = SnowballStemmer(language='english')\n",
        "q0_stm=[stemmer.stem(word) for word in q0_stop]\n",
        "q1_stm = [stemmer.stem(word) for word in q1_stop]"
      ],
      "metadata": {
        "id": "-B2W_6hYiCah"
      },
      "execution_count": null,
      "outputs": []
    },
    {
      "cell_type": "code",
      "source": [
        "stemmer.stem('going')"
      ],
      "metadata": {
        "id": "0COjtEPPi_wN",
        "outputId": "0b03be9d-149b-4c3b-99c2-ccf3aeed31ec",
        "colab": {
          "base_uri": "https://localhost:8080/",
          "height": 36
        }
      },
      "execution_count": null,
      "outputs": [
        {
          "output_type": "execute_result",
          "data": {
            "text/plain": [
              "'going to lahor'"
            ],
            "application/vnd.google.colaboratory.intrinsic+json": {
              "type": "string"
            }
          },
          "metadata": {},
          "execution_count": 78
        }
      ]
    },
    {
      "cell_type": "markdown",
      "source": [
        "## Bag of Words"
      ],
      "metadata": {
        "id": "pDzMcsIhvtBV"
      }
    },
    {
      "cell_type": "code",
      "source": [
        "from sklearn.feature_extraction.text import CountVectorizer"
      ],
      "metadata": {
        "id": "NJJvXnmVjllC"
      },
      "execution_count": null,
      "outputs": []
    },
    {
      "cell_type": "code",
      "source": [
        "vectorizer=CountVectorizer()\n",
        "type(vectorizer)"
      ],
      "metadata": {
        "id": "x-yPhMs0v6-Q",
        "outputId": "1f42367c-4567-47aa-de9a-c28f9253cea0",
        "colab": {
          "base_uri": "https://localhost:8080/",
          "height": 238
        }
      },
      "execution_count": null,
      "outputs": [
        {
          "output_type": "execute_result",
          "data": {
            "text/plain": [
              "sklearn.feature_extraction.text.CountVectorizer"
            ],
            "text/html": [
              "<div style=\"max-width:800px; border: 1px solid var(--colab-border-color);\"><style>\n",
              "      pre.function-repr-contents {\n",
              "        overflow-x: auto;\n",
              "        padding: 8px 12px;\n",
              "        max-height: 500px;\n",
              "      }\n",
              "\n",
              "      pre.function-repr-contents.function-repr-contents-collapsed {\n",
              "        cursor: pointer;\n",
              "        max-height: 100px;\n",
              "      }\n",
              "    </style>\n",
              "    <pre style=\"white-space: initial; background:\n",
              "         var(--colab-secondary-surface-color); padding: 8px 12px;\n",
              "         border-bottom: 1px solid var(--colab-border-color);\"><b>sklearn.feature_extraction.text.CountVectorizer</b><br/>def __init__(*, input=&#x27;content&#x27;, encoding=&#x27;utf-8&#x27;, decode_error=&#x27;strict&#x27;, strip_accents=None, lowercase=True, preprocessor=None, tokenizer=None, stop_words=None, token_pattern=&#x27;(?u)\\\\b\\\\w\\\\w+\\\\b&#x27;, ngram_range=(1, 1), analyzer=&#x27;word&#x27;, max_df=1.0, min_df=1, max_features=None, vocabulary=None, binary=False, dtype=np.int64)</pre><pre class=\"function-repr-contents function-repr-contents-collapsed\" style=\"\"><a class=\"filepath\" style=\"display:none\" href=\"#\">/usr/local/lib/python3.10/dist-packages/sklearn/feature_extraction/text.py</a>Convert a collection of text documents to a matrix of token counts.\n",
              "\n",
              "This implementation produces a sparse representation of the counts using\n",
              "scipy.sparse.csr_matrix.\n",
              "\n",
              "If you do not provide an a-priori dictionary and you do not use an analyzer\n",
              "that does some kind of feature selection then the number of features will\n",
              "be equal to the vocabulary size found by analyzing the data.\n",
              "\n",
              "Read more in the :ref:`User Guide &lt;text_feature_extraction&gt;`.\n",
              "\n",
              "Parameters\n",
              "----------\n",
              "input : {&#x27;filename&#x27;, &#x27;file&#x27;, &#x27;content&#x27;}, default=&#x27;content&#x27;\n",
              "    - If `&#x27;filename&#x27;`, the sequence passed as an argument to fit is\n",
              "      expected to be a list of filenames that need reading to fetch\n",
              "      the raw content to analyze.\n",
              "\n",
              "    - If `&#x27;file&#x27;`, the sequence items must have a &#x27;read&#x27; method (file-like\n",
              "      object) that is called to fetch the bytes in memory.\n",
              "\n",
              "    - If `&#x27;content&#x27;`, the input is expected to be a sequence of items that\n",
              "      can be of type string or byte.\n",
              "\n",
              "encoding : str, default=&#x27;utf-8&#x27;\n",
              "    If bytes or files are given to analyze, this encoding is used to\n",
              "    decode.\n",
              "\n",
              "decode_error : {&#x27;strict&#x27;, &#x27;ignore&#x27;, &#x27;replace&#x27;}, default=&#x27;strict&#x27;\n",
              "    Instruction on what to do if a byte sequence is given to analyze that\n",
              "    contains characters not of the given `encoding`. By default, it is\n",
              "    &#x27;strict&#x27;, meaning that a UnicodeDecodeError will be raised. Other\n",
              "    values are &#x27;ignore&#x27; and &#x27;replace&#x27;.\n",
              "\n",
              "strip_accents : {&#x27;ascii&#x27;, &#x27;unicode&#x27;} or callable, default=None\n",
              "    Remove accents and perform other character normalization\n",
              "    during the preprocessing step.\n",
              "    &#x27;ascii&#x27; is a fast method that only works on characters that have\n",
              "    a direct ASCII mapping.\n",
              "    &#x27;unicode&#x27; is a slightly slower method that works on any characters.\n",
              "    None (default) does nothing.\n",
              "\n",
              "    Both &#x27;ascii&#x27; and &#x27;unicode&#x27; use NFKD normalization from\n",
              "    :func:`unicodedata.normalize`.\n",
              "\n",
              "lowercase : bool, default=True\n",
              "    Convert all characters to lowercase before tokenizing.\n",
              "\n",
              "preprocessor : callable, default=None\n",
              "    Override the preprocessing (strip_accents and lowercase) stage while\n",
              "    preserving the tokenizing and n-grams generation steps.\n",
              "    Only applies if ``analyzer`` is not callable.\n",
              "\n",
              "tokenizer : callable, default=None\n",
              "    Override the string tokenization step while preserving the\n",
              "    preprocessing and n-grams generation steps.\n",
              "    Only applies if ``analyzer == &#x27;word&#x27;``.\n",
              "\n",
              "stop_words : {&#x27;english&#x27;}, list, default=None\n",
              "    If &#x27;english&#x27;, a built-in stop word list for English is used.\n",
              "    There are several known issues with &#x27;english&#x27; and you should\n",
              "    consider an alternative (see :ref:`stop_words`).\n",
              "\n",
              "    If a list, that list is assumed to contain stop words, all of which\n",
              "    will be removed from the resulting tokens.\n",
              "    Only applies if ``analyzer == &#x27;word&#x27;``.\n",
              "\n",
              "    If None, no stop words will be used. In this case, setting `max_df`\n",
              "    to a higher value, such as in the range (0.7, 1.0), can automatically detect\n",
              "    and filter stop words based on intra corpus document frequency of terms.\n",
              "\n",
              "token_pattern : str or None, default=r&quot;(?u)\\\\b\\\\w\\\\w+\\\\b&quot;\n",
              "    Regular expression denoting what constitutes a &quot;token&quot;, only used\n",
              "    if ``analyzer == &#x27;word&#x27;``. The default regexp select tokens of 2\n",
              "    or more alphanumeric characters (punctuation is completely ignored\n",
              "    and always treated as a token separator).\n",
              "\n",
              "    If there is a capturing group in token_pattern then the\n",
              "    captured group content, not the entire match, becomes the token.\n",
              "    At most one capturing group is permitted.\n",
              "\n",
              "ngram_range : tuple (min_n, max_n), default=(1, 1)\n",
              "    The lower and upper boundary of the range of n-values for different\n",
              "    word n-grams or char n-grams to be extracted. All values of n such\n",
              "    such that min_n &lt;= n &lt;= max_n will be used. For example an\n",
              "    ``ngram_range`` of ``(1, 1)`` means only unigrams, ``(1, 2)`` means\n",
              "    unigrams and bigrams, and ``(2, 2)`` means only bigrams.\n",
              "    Only applies if ``analyzer`` is not callable.\n",
              "\n",
              "analyzer : {&#x27;word&#x27;, &#x27;char&#x27;, &#x27;char_wb&#x27;} or callable, default=&#x27;word&#x27;\n",
              "    Whether the feature should be made of word n-gram or character\n",
              "    n-grams.\n",
              "    Option &#x27;char_wb&#x27; creates character n-grams only from text inside\n",
              "    word boundaries; n-grams at the edges of words are padded with space.\n",
              "\n",
              "    If a callable is passed it is used to extract the sequence of features\n",
              "    out of the raw, unprocessed input.\n",
              "\n",
              "    .. versionchanged:: 0.21\n",
              "\n",
              "    Since v0.21, if ``input`` is ``filename`` or ``file``, the data is\n",
              "    first read from the file and then passed to the given callable\n",
              "    analyzer.\n",
              "\n",
              "max_df : float in range [0.0, 1.0] or int, default=1.0\n",
              "    When building the vocabulary ignore terms that have a document\n",
              "    frequency strictly higher than the given threshold (corpus-specific\n",
              "    stop words).\n",
              "    If float, the parameter represents a proportion of documents, integer\n",
              "    absolute counts.\n",
              "    This parameter is ignored if vocabulary is not None.\n",
              "\n",
              "min_df : float in range [0.0, 1.0] or int, default=1\n",
              "    When building the vocabulary ignore terms that have a document\n",
              "    frequency strictly lower than the given threshold. This value is also\n",
              "    called cut-off in the literature.\n",
              "    If float, the parameter represents a proportion of documents, integer\n",
              "    absolute counts.\n",
              "    This parameter is ignored if vocabulary is not None.\n",
              "\n",
              "max_features : int, default=None\n",
              "    If not None, build a vocabulary that only consider the top\n",
              "    `max_features` ordered by term frequency across the corpus.\n",
              "    Otherwise, all features are used.\n",
              "\n",
              "    This parameter is ignored if vocabulary is not None.\n",
              "\n",
              "vocabulary : Mapping or iterable, default=None\n",
              "    Either a Mapping (e.g., a dict) where keys are terms and values are\n",
              "    indices in the feature matrix, or an iterable over terms. If not\n",
              "    given, a vocabulary is determined from the input documents. Indices\n",
              "    in the mapping should not be repeated and should not have any gap\n",
              "    between 0 and the largest index.\n",
              "\n",
              "binary : bool, default=False\n",
              "    If True, all non zero counts are set to 1. This is useful for discrete\n",
              "    probabilistic models that model binary events rather than integer\n",
              "    counts.\n",
              "\n",
              "dtype : dtype, default=np.int64\n",
              "    Type of the matrix returned by fit_transform() or transform().\n",
              "\n",
              "Attributes\n",
              "----------\n",
              "vocabulary_ : dict\n",
              "    A mapping of terms to feature indices.\n",
              "\n",
              "fixed_vocabulary_ : bool\n",
              "    True if a fixed vocabulary of term to indices mapping\n",
              "    is provided by the user.\n",
              "\n",
              "stop_words_ : set\n",
              "    Terms that were ignored because they either:\n",
              "\n",
              "      - occurred in too many documents (`max_df`)\n",
              "      - occurred in too few documents (`min_df`)\n",
              "      - were cut off by feature selection (`max_features`).\n",
              "\n",
              "    This is only available if no vocabulary was given.\n",
              "\n",
              "See Also\n",
              "--------\n",
              "HashingVectorizer : Convert a collection of text documents to a\n",
              "    matrix of token counts.\n",
              "\n",
              "TfidfVectorizer : Convert a collection of raw documents to a matrix\n",
              "    of TF-IDF features.\n",
              "\n",
              "Notes\n",
              "-----\n",
              "The ``stop_words_`` attribute can get large and increase the model size\n",
              "when pickling. This attribute is provided only for introspection and can\n",
              "be safely removed using delattr or set to None before pickling.\n",
              "\n",
              "Examples\n",
              "--------\n",
              "&gt;&gt;&gt; from sklearn.feature_extraction.text import CountVectorizer\n",
              "&gt;&gt;&gt; corpus = [\n",
              "...     &#x27;This is the first document.&#x27;,\n",
              "...     &#x27;This document is the second document.&#x27;,\n",
              "...     &#x27;And this is the third one.&#x27;,\n",
              "...     &#x27;Is this the first document?&#x27;,\n",
              "... ]\n",
              "&gt;&gt;&gt; vectorizer = CountVectorizer()\n",
              "&gt;&gt;&gt; X = vectorizer.fit_transform(corpus)\n",
              "&gt;&gt;&gt; vectorizer.get_feature_names_out()\n",
              "array([&#x27;and&#x27;, &#x27;document&#x27;, &#x27;first&#x27;, &#x27;is&#x27;, &#x27;one&#x27;, &#x27;second&#x27;, &#x27;the&#x27;, &#x27;third&#x27;,\n",
              "       &#x27;this&#x27;], ...)\n",
              "&gt;&gt;&gt; print(X.toarray())\n",
              "[[0 1 1 1 0 0 1 0 1]\n",
              " [0 2 0 1 0 1 1 0 1]\n",
              " [1 0 0 1 1 0 1 1 1]\n",
              " [0 1 1 1 0 0 1 0 1]]\n",
              "&gt;&gt;&gt; vectorizer2 = CountVectorizer(analyzer=&#x27;word&#x27;, ngram_range=(2, 2))\n",
              "&gt;&gt;&gt; X2 = vectorizer2.fit_transform(corpus)\n",
              "&gt;&gt;&gt; vectorizer2.get_feature_names_out()\n",
              "array([&#x27;and this&#x27;, &#x27;document is&#x27;, &#x27;first document&#x27;, &#x27;is the&#x27;, &#x27;is this&#x27;,\n",
              "       &#x27;second document&#x27;, &#x27;the first&#x27;, &#x27;the second&#x27;, &#x27;the third&#x27;, &#x27;third one&#x27;,\n",
              "       &#x27;this document&#x27;, &#x27;this is&#x27;, &#x27;this the&#x27;], ...)\n",
              " &gt;&gt;&gt; print(X2.toarray())\n",
              " [[0 0 1 1 0 0 1 0 0 0 0 1 0]\n",
              " [0 1 0 1 0 1 0 1 0 0 1 0 0]\n",
              " [1 0 0 1 0 0 0 0 1 1 0 1 0]\n",
              " [0 0 1 0 1 0 1 0 0 0 0 0 1]]</pre>\n",
              "      <script>\n",
              "      if (google.colab.kernel.accessAllowed && google.colab.files && google.colab.files.view) {\n",
              "        for (const element of document.querySelectorAll('.filepath')) {\n",
              "          element.style.display = 'block'\n",
              "          element.onclick = (event) => {\n",
              "            event.preventDefault();\n",
              "            event.stopPropagation();\n",
              "            google.colab.files.view(element.textContent, 931);\n",
              "          };\n",
              "        }\n",
              "      }\n",
              "      for (const element of document.querySelectorAll('.function-repr-contents')) {\n",
              "        element.onclick = (event) => {\n",
              "          event.preventDefault();\n",
              "          event.stopPropagation();\n",
              "          element.classList.toggle('function-repr-contents-collapsed');\n",
              "        };\n",
              "      }\n",
              "      </script>\n",
              "      </div>"
            ]
          },
          "metadata": {},
          "execution_count": 85
        }
      ]
    },
    {
      "cell_type": "code",
      "source": [
        "vectorizer=CountVectorizer()\n",
        "\n",
        "corpus = [\n",
        "       'This is the first document.',\n",
        "     'This is the second second document.',\n",
        "     'And the third one.',\n",
        "     'Is this the first document?',\n",
        " ]\n",
        "\n",
        "X = vectorizer.fit_transform(corpus)\n",
        "print(vectorizer.get_feature_names_out())\n",
        "X.toarray()"
      ],
      "metadata": {
        "id": "-K5DjDM_wMH4",
        "outputId": "6d447f1c-571a-427b-b395-fab4584e472a",
        "colab": {
          "base_uri": "https://localhost:8080/"
        }
      },
      "execution_count": null,
      "outputs": [
        {
          "output_type": "stream",
          "name": "stdout",
          "text": [
            "['and' 'document' 'first' 'is' 'one' 'second' 'the' 'third' 'this']\n"
          ]
        },
        {
          "output_type": "execute_result",
          "data": {
            "text/plain": [
              "array([[0, 1, 1, 1, 0, 0, 1, 0, 1],\n",
              "       [0, 1, 0, 1, 0, 2, 1, 0, 1],\n",
              "       [1, 0, 0, 0, 1, 0, 1, 1, 0],\n",
              "       [0, 1, 1, 1, 0, 0, 1, 0, 1]])"
            ]
          },
          "metadata": {},
          "execution_count": 112
        }
      ]
    },
    {
      "cell_type": "code",
      "source": [],
      "metadata": {
        "id": "Jum1hM7k0Rtn"
      },
      "execution_count": null,
      "outputs": []
    },
    {
      "cell_type": "code",
      "source": [
        "X.toarray()"
      ],
      "metadata": {
        "id": "jbMLdVeeynF2",
        "outputId": "21803304-7ed3-4515-ec9a-e5d971e00115",
        "colab": {
          "base_uri": "https://localhost:8080/"
        }
      },
      "execution_count": null,
      "outputs": [
        {
          "output_type": "execute_result",
          "data": {
            "text/plain": [
              "array([[0, 1, 1, 1, 0, 0, 1, 0, 1],\n",
              "       [0, 1, 0, 1, 0, 2, 1, 0, 1],\n",
              "       [1, 0, 0, 0, 1, 0, 1, 1, 0],\n",
              "       [0, 1, 1, 1, 0, 0, 1, 0, 1]])"
            ]
          },
          "metadata": {},
          "execution_count": 97
        }
      ]
    },
    {
      "cell_type": "code",
      "source": [
        "corp_tok=word_tokenize(','.join(corpus))\n",
        "corp_wo_stp = filter_stopwords(corp_tok)\n",
        "set(corp_tok)"
      ],
      "metadata": {
        "id": "QRN0ngQ4xnX_",
        "outputId": "a91760c5-6889-45c5-c8e8-19dac53f1963",
        "colab": {
          "base_uri": "https://localhost:8080/"
        }
      },
      "execution_count": null,
      "outputs": [
        {
          "output_type": "execute_result",
          "data": {
            "text/plain": [
              "{',',\n",
              " '?',\n",
              " 'And',\n",
              " 'Is',\n",
              " 'This',\n",
              " 'document',\n",
              " 'document.',\n",
              " 'first',\n",
              " 'is',\n",
              " 'one.',\n",
              " 'second',\n",
              " 'the',\n",
              " 'third',\n",
              " 'this'}"
            ]
          },
          "metadata": {},
          "execution_count": 95
        }
      ]
    },
    {
      "cell_type": "code",
      "source": [],
      "metadata": {
        "id": "X1CxHSzRyUpy"
      },
      "execution_count": null,
      "outputs": []
    }
  ]
}