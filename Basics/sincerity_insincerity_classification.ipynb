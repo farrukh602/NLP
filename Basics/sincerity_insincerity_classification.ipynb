{
  "nbformat": 4,
  "nbformat_minor": 0,
  "metadata": {
    "colab": {
      "provenance": [],
      "mount_file_id": "https://github.com/farrukh602/NLP/blob/main/Basics/sincerity_insincerity_classification.ipynb",
      "authorship_tag": "ABX9TyO6rWgaNZ3kUo0qOA+mhPfY"
    },
    "kernelspec": {
      "name": "python3",
      "display_name": "Python 3"
    },
    "language_info": {
      "name": "python"
    }
  },
  "cells": [
    {
      "cell_type": "markdown",
      "source": [
        "## Data download"
      ],
      "metadata": {
        "id": "LSGg4A05Gvjc"
      }
    },
    {
      "cell_type": "code",
      "execution_count": null,
      "metadata": {
        "id": "yiMRGbrGDlVp"
      },
      "outputs": [],
      "source": [
        "if not '/./embeddings.zip':\n",
        "  data_set='kaggle competitions download -c quora-insincere-questions-classification'\n",
        "\n",
        "  if not '/./kaggle.json':\n",
        "    from google.colab import files\n",
        "    files.upload()\n",
        "    !mkdir ~/.kaggle\n",
        "    !cp kaggle.json ~/.kaggle/\n",
        "    !chmod 600 ~/.kaggle/kaggle.json\n",
        "    !{data_set}\n",
        "    !unzip -q quora-insincere-questions-classification\n",
        "  else:\n",
        "    !{data_set}\n",
        "    !unzip -q quora-insincere-questions-classification.zip"
      ]
    },
    {
      "cell_type": "code",
      "source": [
        "import pandas as pd\n",
        "import matplotlib.pyplot as plt\n",
        "import numpy as np"
      ],
      "metadata": {
        "id": "xxeNG2MbMuWC"
      },
      "execution_count": null,
      "outputs": []
    },
    {
      "cell_type": "code",
      "source": [
        "class CONFIGURATION:\n",
        "  sample_size=100000\n",
        "\n",
        "config=CONFIGURATION()"
      ],
      "metadata": {
        "id": "2mQRCgynXj7y"
      },
      "execution_count": null,
      "outputs": []
    },
    {
      "cell_type": "markdown",
      "source": [
        "## Exploring the data"
      ],
      "metadata": {
        "id": "nb-3gSeyL1t2"
      }
    },
    {
      "cell_type": "code",
      "source": [
        "train = pd.read_csv('train.csv')\n",
        "sample_submission = pd.read_csv('sample_submission.csv')"
      ],
      "metadata": {
        "id": "O-71gNVYHxnC",
        "outputId": "19f42d1b-07be-4ef1-d578-adfb7ca29074",
        "colab": {
          "base_uri": "https://localhost:8080/",
          "height": 423
        }
      },
      "execution_count": null,
      "outputs": [
        {
          "output_type": "execute_result",
          "data": {
            "text/plain": [
              "                          qid  \\\n",
              "0        00002165364db923c7e6   \n",
              "1        000032939017120e6e44   \n",
              "2        0000412ca6e4628ce2cf   \n",
              "3        000042bf85aa498cd78e   \n",
              "4        0000455dfa3e01eae3af   \n",
              "...                       ...   \n",
              "1306117  ffffcc4e2331aaf1e41e   \n",
              "1306118  ffffd431801e5a2f4861   \n",
              "1306119  ffffd48fb36b63db010c   \n",
              "1306120  ffffec519fa37cf60c78   \n",
              "1306121  ffffed09fedb5088744a   \n",
              "\n",
              "                                             question_text  target  \n",
              "0        How did Quebec nationalists see their province...       0  \n",
              "1        Do you have an adopted dog, how would you enco...       0  \n",
              "2        Why does velocity affect time? Does velocity a...       0  \n",
              "3        How did Otto von Guericke used the Magdeburg h...       0  \n",
              "4        Can I convert montra helicon D to a mountain b...       0  \n",
              "...                                                    ...     ...  \n",
              "1306117  What other technical skills do you need as a c...       0  \n",
              "1306118  Does MS in ECE have good job prospects in USA ...       0  \n",
              "1306119                          Is foam insulation toxic?       0  \n",
              "1306120  How can one start a research project based on ...       0  \n",
              "1306121  Who wins in a battle between a Wolverine and a...       0  \n",
              "\n",
              "[1306122 rows x 3 columns]"
            ],
            "text/html": [
              "\n",
              "  <div id=\"df-44c876c7-a0e5-45ea-824b-b05f18b785ed\" class=\"colab-df-container\">\n",
              "    <div>\n",
              "<style scoped>\n",
              "    .dataframe tbody tr th:only-of-type {\n",
              "        vertical-align: middle;\n",
              "    }\n",
              "\n",
              "    .dataframe tbody tr th {\n",
              "        vertical-align: top;\n",
              "    }\n",
              "\n",
              "    .dataframe thead th {\n",
              "        text-align: right;\n",
              "    }\n",
              "</style>\n",
              "<table border=\"1\" class=\"dataframe\">\n",
              "  <thead>\n",
              "    <tr style=\"text-align: right;\">\n",
              "      <th></th>\n",
              "      <th>qid</th>\n",
              "      <th>question_text</th>\n",
              "      <th>target</th>\n",
              "    </tr>\n",
              "  </thead>\n",
              "  <tbody>\n",
              "    <tr>\n",
              "      <th>0</th>\n",
              "      <td>00002165364db923c7e6</td>\n",
              "      <td>How did Quebec nationalists see their province...</td>\n",
              "      <td>0</td>\n",
              "    </tr>\n",
              "    <tr>\n",
              "      <th>1</th>\n",
              "      <td>000032939017120e6e44</td>\n",
              "      <td>Do you have an adopted dog, how would you enco...</td>\n",
              "      <td>0</td>\n",
              "    </tr>\n",
              "    <tr>\n",
              "      <th>2</th>\n",
              "      <td>0000412ca6e4628ce2cf</td>\n",
              "      <td>Why does velocity affect time? Does velocity a...</td>\n",
              "      <td>0</td>\n",
              "    </tr>\n",
              "    <tr>\n",
              "      <th>3</th>\n",
              "      <td>000042bf85aa498cd78e</td>\n",
              "      <td>How did Otto von Guericke used the Magdeburg h...</td>\n",
              "      <td>0</td>\n",
              "    </tr>\n",
              "    <tr>\n",
              "      <th>4</th>\n",
              "      <td>0000455dfa3e01eae3af</td>\n",
              "      <td>Can I convert montra helicon D to a mountain b...</td>\n",
              "      <td>0</td>\n",
              "    </tr>\n",
              "    <tr>\n",
              "      <th>...</th>\n",
              "      <td>...</td>\n",
              "      <td>...</td>\n",
              "      <td>...</td>\n",
              "    </tr>\n",
              "    <tr>\n",
              "      <th>1306117</th>\n",
              "      <td>ffffcc4e2331aaf1e41e</td>\n",
              "      <td>What other technical skills do you need as a c...</td>\n",
              "      <td>0</td>\n",
              "    </tr>\n",
              "    <tr>\n",
              "      <th>1306118</th>\n",
              "      <td>ffffd431801e5a2f4861</td>\n",
              "      <td>Does MS in ECE have good job prospects in USA ...</td>\n",
              "      <td>0</td>\n",
              "    </tr>\n",
              "    <tr>\n",
              "      <th>1306119</th>\n",
              "      <td>ffffd48fb36b63db010c</td>\n",
              "      <td>Is foam insulation toxic?</td>\n",
              "      <td>0</td>\n",
              "    </tr>\n",
              "    <tr>\n",
              "      <th>1306120</th>\n",
              "      <td>ffffec519fa37cf60c78</td>\n",
              "      <td>How can one start a research project based on ...</td>\n",
              "      <td>0</td>\n",
              "    </tr>\n",
              "    <tr>\n",
              "      <th>1306121</th>\n",
              "      <td>ffffed09fedb5088744a</td>\n",
              "      <td>Who wins in a battle between a Wolverine and a...</td>\n",
              "      <td>0</td>\n",
              "    </tr>\n",
              "  </tbody>\n",
              "</table>\n",
              "<p>1306122 rows × 3 columns</p>\n",
              "</div>\n",
              "    <div class=\"colab-df-buttons\">\n",
              "\n",
              "  <div class=\"colab-df-container\">\n",
              "    <button class=\"colab-df-convert\" onclick=\"convertToInteractive('df-44c876c7-a0e5-45ea-824b-b05f18b785ed')\"\n",
              "            title=\"Convert this dataframe to an interactive table.\"\n",
              "            style=\"display:none;\">\n",
              "\n",
              "  <svg xmlns=\"http://www.w3.org/2000/svg\" height=\"24px\" viewBox=\"0 -960 960 960\">\n",
              "    <path d=\"M120-120v-720h720v720H120Zm60-500h600v-160H180v160Zm220 220h160v-160H400v160Zm0 220h160v-160H400v160ZM180-400h160v-160H180v160Zm440 0h160v-160H620v160ZM180-180h160v-160H180v160Zm440 0h160v-160H620v160Z\"/>\n",
              "  </svg>\n",
              "    </button>\n",
              "\n",
              "  <style>\n",
              "    .colab-df-container {\n",
              "      display:flex;\n",
              "      gap: 12px;\n",
              "    }\n",
              "\n",
              "    .colab-df-convert {\n",
              "      background-color: #E8F0FE;\n",
              "      border: none;\n",
              "      border-radius: 50%;\n",
              "      cursor: pointer;\n",
              "      display: none;\n",
              "      fill: #1967D2;\n",
              "      height: 32px;\n",
              "      padding: 0 0 0 0;\n",
              "      width: 32px;\n",
              "    }\n",
              "\n",
              "    .colab-df-convert:hover {\n",
              "      background-color: #E2EBFA;\n",
              "      box-shadow: 0px 1px 2px rgba(60, 64, 67, 0.3), 0px 1px 3px 1px rgba(60, 64, 67, 0.15);\n",
              "      fill: #174EA6;\n",
              "    }\n",
              "\n",
              "    .colab-df-buttons div {\n",
              "      margin-bottom: 4px;\n",
              "    }\n",
              "\n",
              "    [theme=dark] .colab-df-convert {\n",
              "      background-color: #3B4455;\n",
              "      fill: #D2E3FC;\n",
              "    }\n",
              "\n",
              "    [theme=dark] .colab-df-convert:hover {\n",
              "      background-color: #434B5C;\n",
              "      box-shadow: 0px 1px 3px 1px rgba(0, 0, 0, 0.15);\n",
              "      filter: drop-shadow(0px 1px 2px rgba(0, 0, 0, 0.3));\n",
              "      fill: #FFFFFF;\n",
              "    }\n",
              "  </style>\n",
              "\n",
              "    <script>\n",
              "      const buttonEl =\n",
              "        document.querySelector('#df-44c876c7-a0e5-45ea-824b-b05f18b785ed button.colab-df-convert');\n",
              "      buttonEl.style.display =\n",
              "        google.colab.kernel.accessAllowed ? 'block' : 'none';\n",
              "\n",
              "      async function convertToInteractive(key) {\n",
              "        const element = document.querySelector('#df-44c876c7-a0e5-45ea-824b-b05f18b785ed');\n",
              "        const dataTable =\n",
              "          await google.colab.kernel.invokeFunction('convertToInteractive',\n",
              "                                                    [key], {});\n",
              "        if (!dataTable) return;\n",
              "\n",
              "        const docLinkHtml = 'Like what you see? Visit the ' +\n",
              "          '<a target=\"_blank\" href=https://colab.research.google.com/notebooks/data_table.ipynb>data table notebook</a>'\n",
              "          + ' to learn more about interactive tables.';\n",
              "        element.innerHTML = '';\n",
              "        dataTable['output_type'] = 'display_data';\n",
              "        await google.colab.output.renderOutput(dataTable, element);\n",
              "        const docLink = document.createElement('div');\n",
              "        docLink.innerHTML = docLinkHtml;\n",
              "        element.appendChild(docLink);\n",
              "      }\n",
              "    </script>\n",
              "  </div>\n",
              "\n",
              "\n",
              "<div id=\"df-977ffd2a-b1dd-43d8-9761-4f0796eede02\">\n",
              "  <button class=\"colab-df-quickchart\" onclick=\"quickchart('df-977ffd2a-b1dd-43d8-9761-4f0796eede02')\"\n",
              "            title=\"Suggest charts\"\n",
              "            style=\"display:none;\">\n",
              "\n",
              "<svg xmlns=\"http://www.w3.org/2000/svg\" height=\"24px\"viewBox=\"0 0 24 24\"\n",
              "     width=\"24px\">\n",
              "    <g>\n",
              "        <path d=\"M19 3H5c-1.1 0-2 .9-2 2v14c0 1.1.9 2 2 2h14c1.1 0 2-.9 2-2V5c0-1.1-.9-2-2-2zM9 17H7v-7h2v7zm4 0h-2V7h2v10zm4 0h-2v-4h2v4z\"/>\n",
              "    </g>\n",
              "</svg>\n",
              "  </button>\n",
              "\n",
              "<style>\n",
              "  .colab-df-quickchart {\n",
              "      --bg-color: #E8F0FE;\n",
              "      --fill-color: #1967D2;\n",
              "      --hover-bg-color: #E2EBFA;\n",
              "      --hover-fill-color: #174EA6;\n",
              "      --disabled-fill-color: #AAA;\n",
              "      --disabled-bg-color: #DDD;\n",
              "  }\n",
              "\n",
              "  [theme=dark] .colab-df-quickchart {\n",
              "      --bg-color: #3B4455;\n",
              "      --fill-color: #D2E3FC;\n",
              "      --hover-bg-color: #434B5C;\n",
              "      --hover-fill-color: #FFFFFF;\n",
              "      --disabled-bg-color: #3B4455;\n",
              "      --disabled-fill-color: #666;\n",
              "  }\n",
              "\n",
              "  .colab-df-quickchart {\n",
              "    background-color: var(--bg-color);\n",
              "    border: none;\n",
              "    border-radius: 50%;\n",
              "    cursor: pointer;\n",
              "    display: none;\n",
              "    fill: var(--fill-color);\n",
              "    height: 32px;\n",
              "    padding: 0;\n",
              "    width: 32px;\n",
              "  }\n",
              "\n",
              "  .colab-df-quickchart:hover {\n",
              "    background-color: var(--hover-bg-color);\n",
              "    box-shadow: 0 1px 2px rgba(60, 64, 67, 0.3), 0 1px 3px 1px rgba(60, 64, 67, 0.15);\n",
              "    fill: var(--button-hover-fill-color);\n",
              "  }\n",
              "\n",
              "  .colab-df-quickchart-complete:disabled,\n",
              "  .colab-df-quickchart-complete:disabled:hover {\n",
              "    background-color: var(--disabled-bg-color);\n",
              "    fill: var(--disabled-fill-color);\n",
              "    box-shadow: none;\n",
              "  }\n",
              "\n",
              "  .colab-df-spinner {\n",
              "    border: 2px solid var(--fill-color);\n",
              "    border-color: transparent;\n",
              "    border-bottom-color: var(--fill-color);\n",
              "    animation:\n",
              "      spin 1s steps(1) infinite;\n",
              "  }\n",
              "\n",
              "  @keyframes spin {\n",
              "    0% {\n",
              "      border-color: transparent;\n",
              "      border-bottom-color: var(--fill-color);\n",
              "      border-left-color: var(--fill-color);\n",
              "    }\n",
              "    20% {\n",
              "      border-color: transparent;\n",
              "      border-left-color: var(--fill-color);\n",
              "      border-top-color: var(--fill-color);\n",
              "    }\n",
              "    30% {\n",
              "      border-color: transparent;\n",
              "      border-left-color: var(--fill-color);\n",
              "      border-top-color: var(--fill-color);\n",
              "      border-right-color: var(--fill-color);\n",
              "    }\n",
              "    40% {\n",
              "      border-color: transparent;\n",
              "      border-right-color: var(--fill-color);\n",
              "      border-top-color: var(--fill-color);\n",
              "    }\n",
              "    60% {\n",
              "      border-color: transparent;\n",
              "      border-right-color: var(--fill-color);\n",
              "    }\n",
              "    80% {\n",
              "      border-color: transparent;\n",
              "      border-right-color: var(--fill-color);\n",
              "      border-bottom-color: var(--fill-color);\n",
              "    }\n",
              "    90% {\n",
              "      border-color: transparent;\n",
              "      border-bottom-color: var(--fill-color);\n",
              "    }\n",
              "  }\n",
              "</style>\n",
              "\n",
              "  <script>\n",
              "    async function quickchart(key) {\n",
              "      const quickchartButtonEl =\n",
              "        document.querySelector('#' + key + ' button');\n",
              "      quickchartButtonEl.disabled = true;  // To prevent multiple clicks.\n",
              "      quickchartButtonEl.classList.add('colab-df-spinner');\n",
              "      try {\n",
              "        const charts = await google.colab.kernel.invokeFunction(\n",
              "            'suggestCharts', [key], {});\n",
              "      } catch (error) {\n",
              "        console.error('Error during call to suggestCharts:', error);\n",
              "      }\n",
              "      quickchartButtonEl.classList.remove('colab-df-spinner');\n",
              "      quickchartButtonEl.classList.add('colab-df-quickchart-complete');\n",
              "    }\n",
              "    (() => {\n",
              "      let quickchartButtonEl =\n",
              "        document.querySelector('#df-977ffd2a-b1dd-43d8-9761-4f0796eede02 button');\n",
              "      quickchartButtonEl.style.display =\n",
              "        google.colab.kernel.accessAllowed ? 'block' : 'none';\n",
              "    })();\n",
              "  </script>\n",
              "</div>\n",
              "    </div>\n",
              "  </div>\n"
            ],
            "application/vnd.google.colaboratory.intrinsic+json": {
              "type": "dataframe",
              "variable_name": "train"
            }
          },
          "metadata": {},
          "execution_count": 18
        }
      ]
    },
    {
      "cell_type": "code",
      "source": [
        "sincere_df = train[train.target==0]\n",
        "insincere_df=train[train.target==1]"
      ],
      "metadata": {
        "id": "zwfxs19nNAJj"
      },
      "execution_count": null,
      "outputs": []
    },
    {
      "cell_type": "code",
      "source": [
        "sincere_df.question_text.values[10:20]"
      ],
      "metadata": {
        "id": "-RYefSgRNzkW",
        "outputId": "8d269d84-777f-47e5-83a4-7d97ac86e5dd",
        "colab": {
          "base_uri": "https://localhost:8080/"
        }
      },
      "execution_count": null,
      "outputs": [
        {
          "output_type": "execute_result",
          "data": {
            "text/plain": [
              "array(['What can you say about feminism?',\n",
              "       'How were the Calgary Flames founded?',\n",
              "       'What is the dumbest, yet possibly true explanation for Trump being elected?',\n",
              "       'Can we use our external hard disk as a OS as well as for data storage.will the data be affected?',\n",
              "       'I am 30, living at home and have no boyfriend. I would love a boyfriend and my own home. How can I progress my situation?',\n",
              "       'What do you know about Bram Fischer and the Rivonia Trial?',\n",
              "       'How difficult is it to find a good instructor to take a class near you?',\n",
              "       'Have you licked the skin of a corpse?',\n",
              "       'Do you think Amazon will adopt an in house approach to manufacturing similar to the Tesla or Space X business models?',\n",
              "       'How many baronies might exist within a county palatine?'],\n",
              "      dtype=object)"
            ]
          },
          "metadata": {},
          "execution_count": 35
        }
      ]
    },
    {
      "cell_type": "code",
      "source": [
        "insincere_df.question_text.values[10:20]"
      ],
      "metadata": {
        "id": "GfXKsaScONXr",
        "outputId": "81399be4-0924-42ab-ec8b-bcc2d5b744cf",
        "colab": {
          "base_uri": "https://localhost:8080/"
        }
      },
      "execution_count": null,
      "outputs": [
        {
          "output_type": "execute_result",
          "data": {
            "text/plain": [
              "array(['Would Europeans continue to participate in the Arab war for the destruction of Israel and killing all the Jews, if they knew that god himself defends Israel and he will do to Europeans what the Arabs want to do to the Jews?',\n",
              "       'Why are Americans, British, Canadians, Australians and New Zealanders considered to be separate nations even when they all speak the same language?',\n",
              "       'If both Honey Singh and Justin Bieber fall from the 5th floor, who will survive?',\n",
              "       'Why are liberal minorities so voilent towards poeple with diffrent poltical beleifs? Should supporting trump be a sentence to be imprisoned or savegely attacked?',\n",
              "       \"Can we all now admit that President Trump doesn't really want Congress to pass legislation replacing DACA to protect dreamers?\",\n",
              "       'The American economy is growing under Trump’s presidency, why do people still hate Trump as a president?',\n",
              "       \"Why don't poor countries print more money to use for paying for education, etc.?\",\n",
              "       \"Why do all the people who claim Florida has great weather go silent every time there's a new hurricane?\",\n",
              "       \"Could the leader of Iran be dead many years ago and the leader of today's Iran is actually a fake leader?\",\n",
              "       'Why do the Liberals who run schools choose not to have controlled access? The kids in Florida were killed due to an unlocked door.'],\n",
              "      dtype=object)"
            ]
          },
          "metadata": {},
          "execution_count": 36
        }
      ]
    },
    {
      "cell_type": "code",
      "source": [
        "proportion = 100*train.target.value_counts(normalize=True)\n",
        "plt.bar(proportion.index, proportion.values,width=0.2)\n",
        "plt.ylabel('Proporiton (%)')\n",
        "plt.xlabel('Target values')\n",
        "plt.xticks([0,1])\n",
        "plt.show()"
      ],
      "metadata": {
        "id": "_tVyAhrxPkbH",
        "outputId": "7d32eb59-b4cc-4e95-fce2-61801d8ace2b",
        "colab": {
          "base_uri": "https://localhost:8080/",
          "height": 449
        }
      },
      "execution_count": null,
      "outputs": [
        {
          "output_type": "display_data",
          "data": {
            "text/plain": [
              "<Figure size 640x480 with 1 Axes>"
            ],
            "image/png": "[encoded data removed]"
          },
          "metadata": {}
        }
      ]
    },
    {
      "cell_type": "markdown",
      "source": [
        "## Text preprocessing\n",
        "1. Tokenization\n",
        "2. Filtering Stopwords\n",
        "3. Stemming"
      ],
      "metadata": {
        "id": "U1-KBfDhXTz0"
      }
    },
    {
      "cell_type": "code",
      "source": [
        "import nltk\n",
        "from nltk.tokenize import word_tokenize\n",
        "from nltk.corpus import stopwords\n",
        "from nltk.stem.snowball import SnowballStemmer\n",
        "nltk.download('punkt')\n",
        "nltk.download('stopwords')"
      ],
      "metadata": {
        "id": "-R1twGfIdvcU",
        "outputId": "f81c92e1-f674-46eb-ce3e-46aa211d145a",
        "colab": {
          "base_uri": "https://localhost:8080/"
        }
      },
      "execution_count": null,
      "outputs": [
        {
          "output_type": "stream",
          "name": "stderr",
          "text": [
            "[nltk_data] Downloading package punkt to /root/nltk_data...\n",
            "[nltk_data]   Package punkt is already up-to-date!\n",
            "[nltk_data] Downloading package stopwords to /root/nltk_data...\n",
            "[nltk_data]   Package stopwords is already up-to-date!\n"
          ]
        },
        {
          "output_type": "execute_result",
          "data": {
            "text/plain": [
              "True"
            ]
          },
          "metadata": {},
          "execution_count": 67
        }
      ]
    },
    {
      "cell_type": "markdown",
      "source": [
        "#### 1. Tokenization"
      ],
      "metadata": {
        "id": "vAWJu75Vgd4X"
      }
    },
    {
      "cell_type": "code",
      "source": [
        "q0=sincere_df['question_text'].values[0]\n",
        "q1 = insincere_df['question_text'].values[0]"
      ],
      "metadata": {
        "id": "UtQzVA7GfLBi"
      },
      "execution_count": null,
      "outputs": []
    },
    {
      "cell_type": "code",
      "source": [
        "q0_tok = word_tokenize(q0)\n",
        "q1_tok = word_tokenize(q1)"
      ],
      "metadata": {
        "id": "QpN6uv6mfV6H"
      },
      "execution_count": null,
      "outputs": []
    },
    {
      "cell_type": "markdown",
      "source": [
        "#### 2. Filtering Stopwords"
      ],
      "metadata": {
        "id": "Xck1eqEmgY-B"
      }
    },
    {
      "cell_type": "code",
      "source": [
        "english_stopwords = stopwords.words('english')\n",
        "# function to filter out stop words\n",
        "def filter_stopwords(tokens):\n",
        "  return [word for word in tokens if word.lower() not in english_stopwords]"
      ],
      "metadata": {
        "id": "dhCHVbeggMH9"
      },
      "execution_count": null,
      "outputs": []
    },
    {
      "cell_type": "code",
      "source": [
        "q0_stop=filter_stopwords(q0_tok)\n",
        "q1_stop = filter_stopwords(q1_tok)"
      ],
      "metadata": {
        "id": "MM2Rfzg4hK6g"
      },
      "execution_count": null,
      "outputs": []
    },
    {
      "cell_type": "markdown",
      "source": [
        "#### 3. Stemming"
      ],
      "metadata": {
        "id": "5vWs7MjviXue"
      }
    },
    {
      "cell_type": "code",
      "source": [
        "stemmer = SnowballStemmer(language='english')\n",
        "q0_stm=[stemmer.stem(word) for word in q0_stop]\n",
        "q1_stm = [stemmer.stem(word) for word in q1_stop]"
      ],
      "metadata": {
        "id": "-B2W_6hYiCah"
      },
      "execution_count": null,
      "outputs": []
    },
    {
      "cell_type": "code",
      "source": [
        "stemmer.stem('going')"
      ],
      "metadata": {
        "id": "0COjtEPPi_wN",
        "outputId": "0b03be9d-149b-4c3b-99c2-ccf3aeed31ec",
        "colab": {
          "base_uri": "https://localhost:8080/",
          "height": 36
        }
      },
      "execution_count": null,
      "outputs": [
        {
          "output_type": "execute_result",
          "data": {
            "text/plain": [
              "'going to lahor'"
            ],
            "application/vnd.google.colaboratory.intrinsic+json": {
              "type": "string"
            }
          },
          "metadata": {},
          "execution_count": 78
        }
      ]
    },
    {
      "cell_type": "markdown",
      "source": [
        "## Bag of Words"
      ],
      "metadata": {
        "id": "pDzMcsIhvtBV"
      }
    },
    {
      "cell_type": "code",
      "source": [
        "from sklearn.feature_extraction.text import CountVectorizer"
      ],
      "metadata": {
        "id": "NJJvXnmVjllC"
      },
      "execution_count": 83,
      "outputs": []
    },
    {
      "cell_type": "code",
      "source": [
        "vectorizer=CountVectorizer()\n",
        "type(vectorizer)"
      ],
      "metadata": {
        "id": "x-yPhMs0v6-Q",
        "outputId": "1f42367c-4567-47aa-de9a-c28f9253cea0",
        "colab": {
          "base_uri": "https://localhost:8080/",
          "height": 238
        }
      },
      "execution_count": 85,
      "outputs": [
        {
          "output_type": "execute_result",
          "data": {
            "text/plain": [
              "sklearn.feature_extraction.text.CountVectorizer"
            ],
            "text/html": [
              "<div style=\"max-width:800px; border: 1px solid var(--colab-border-color);\"><style>\n",
              "      pre.function-repr-contents {\n",
              "        overflow-x: auto;\n",
              "        padding: 8px 12px;\n",
              "        max-height: 500px;\n",
              "      }\n",
              "\n",
              "      pre.function-repr-contents.function-repr-contents-collapsed {\n",
              "        cursor: pointer;\n",
              "        max-height: 100px;\n",
              "      }\n",
              "    </style>\n",
              "    <pre style=\"white-space: initial; background:\n",
              "         var(--colab-secondary-surface-color); padding: 8px 12px;\n",
              "         border-bottom: 1px solid var(--colab-border-color);\"><b>sklearn.feature_extraction.text.CountVectorizer</b><br/>def __init__(*, input=&#x27;content&#x27;, encoding=&#x27;utf-8&#x27;, decode_error=&#x27;strict&#x27;, strip_accents=None, lowercase=True, preprocessor=None, tokenizer=None, stop_words=None, token_pattern=&#x27;(?u)\\\\b\\\\w\\\\w+\\\\b&#x27;, ngram_range=(1, 1), analyzer=&#x27;word&#x27;, max_df=1.0, min_df=1, max_features=None, vocabulary=None, binary=False, dtype=np.int64)</pre><pre class=\"function-repr-contents function-repr-contents-collapsed\" style=\"\"><a class=\"filepath\" style=\"display:none\" href=\"#\">/usr/local/lib/python3.10/dist-packages/sklearn/feature_extraction/text.py</a>Convert a collection of text documents to a matrix of token counts.\n",
              "\n",
              "This implementation produces a sparse representation of the counts using\n",
              "scipy.sparse.csr_matrix.\n",
              "\n",
              "If you do not provide an a-priori dictionary and you do not use an analyzer\n",
              "that does some kind of feature selection then the number of features will\n",
              "be equal to the vocabulary size found by analyzing the data.\n",
              "\n",
              "Read more in the :ref:`User Guide &lt;text_feature_extraction&gt;`.\n",
              "\n",
              "Parameters\n",
              "----------\n",
              "input : {&#x27;filename&#x27;, &#x27;file&#x27;, &#x27;content&#x27;}, default=&#x27;content&#x27;\n",
              "    - If `&#x27;filename&#x27;`, the sequence passed as an argument to fit is\n",
              "      expected to be a list of filenames that need reading to fetch\n",
              "      the raw content to analyze.\n",
              "\n",
              "    - If `&#x27;file&#x27;`, the sequence items must have a &#x27;read&#x27; method (file-like\n",
              "      object) that is called to fetch the bytes in memory.\n",
              "\n",
              "    - If `&#x27;content&#x27;`, the input is expected to be a sequence of items that\n",
              "      can be of type string or byte.\n",
              "\n",
              "encoding : str, default=&#x27;utf-8&#x27;\n",
              "    If bytes or files are given to analyze, this encoding is used to\n",
              "    decode.\n",
              "\n",
              "decode_error : {&#x27;strict&#x27;, &#x27;ignore&#x27;, &#x27;replace&#x27;}, default=&#x27;strict&#x27;\n",
              "    Instruction on what to do if a byte sequence is given to analyze that\n",
              "    contains characters not of the given `encoding`. By default, it is\n",
              "    &#x27;strict&#x27;, meaning that a UnicodeDecodeError will be raised. Other\n",
              "    values are &#x27;ignore&#x27; and &#x27;replace&#x27;.\n",
              "\n",
              "strip_accents : {&#x27;ascii&#x27;, &#x27;unicode&#x27;} or callable, default=None\n",
              "    Remove accents and perform other character normalization\n",
              "    during the preprocessing step.\n",
              "    &#x27;ascii&#x27; is a fast method that only works on characters that have\n",
              "    a direct ASCII mapping.\n",
              "    &#x27;unicode&#x27; is a slightly slower method that works on any characters.\n",
              "    None (default) does nothing.\n",
              "\n",
              "    Both &#x27;ascii&#x27; and &#x27;unicode&#x27; use NFKD normalization from\n",
              "    :func:`unicodedata.normalize`.\n",
              "\n",
              "lowercase : bool, default=True\n",
              "    Convert all characters to lowercase before tokenizing.\n",
              "\n",
              "preprocessor : callable, default=None\n",
              "    Override the preprocessing (strip_accents and lowercase) stage while\n",
              "    preserving the tokenizing and n-grams generation steps.\n",
              "    Only applies if ``analyzer`` is not callable.\n",
              "\n",
              "tokenizer : callable, default=None\n",
              "    Override the string tokenization step while preserving the\n",
              "    preprocessing and n-grams generation steps.\n",
              "    Only applies if ``analyzer == &#x27;word&#x27;``.\n",
              "\n",
              "stop_words : {&#x27;english&#x27;}, list, default=None\n",
              "    If &#x27;english&#x27;, a built-in stop word list for English is used.\n",
              "    There are several known issues with &#x27;english&#x27; and you should\n",
              "    consider an alternative (see :ref:`stop_words`).\n",
              "\n",
              "    If a list, that list is assumed to contain stop words, all of which\n",
              "    will be removed from the resulting tokens.\n",
              "    Only applies if ``analyzer == &#x27;word&#x27;``.\n",
              "\n",
              "    If None, no stop words will be used. In this case, setting `max_df`\n",
              "    to a higher value, such as in the range (0.7, 1.0), can automatically detect\n",
              "    and filter stop words based on intra corpus document frequency of terms.\n",
              "\n",
              "token_pattern : str or None, default=r&quot;(?u)\\\\b\\\\w\\\\w+\\\\b&quot;\n",
              "    Regular expression denoting what constitutes a &quot;token&quot;, only used\n",
              "    if ``analyzer == &#x27;word&#x27;``. The default regexp select tokens of 2\n",
              "    or more alphanumeric characters (punctuation is completely ignored\n",
              "    and always treated as a token separator).\n",
              "\n",
              "    If there is a capturing group in token_pattern then the\n",
              "    captured group content, not the entire match, becomes the token.\n",
              "    At most one capturing group is permitted.\n",
              "\n",
              "ngram_range : tuple (min_n, max_n), default=(1, 1)\n",
              "    The lower and upper boundary of the range of n-values for different\n",
              "    word n-grams or char n-grams to be extracted. All values of n such\n",
              "    such that min_n &lt;= n &lt;= max_n will be used. For example an\n",
              "    ``ngram_range`` of ``(1, 1)`` means only unigrams, ``(1, 2)`` means\n",
              "    unigrams and bigrams, and ``(2, 2)`` means only bigrams.\n",
              "    Only applies if ``analyzer`` is not callable.\n",
              "\n",
              "analyzer : {&#x27;word&#x27;, &#x27;char&#x27;, &#x27;char_wb&#x27;} or callable, default=&#x27;word&#x27;\n",
              "    Whether the feature should be made of word n-gram or character\n",
              "    n-grams.\n",
              "    Option &#x27;char_wb&#x27; creates character n-grams only from text inside\n",
              "    word boundaries; n-grams at the edges of words are padded with space.\n",
              "\n",
              "    If a callable is passed it is used to extract the sequence of features\n",
              "    out of the raw, unprocessed input.\n",
              "\n",
              "    .. versionchanged:: 0.21\n",
              "\n",
              "    Since v0.21, if ``input`` is ``filename`` or ``file``, the data is\n",
              "    first read from the file and then passed to the given callable\n",
              "    analyzer.\n",
              "\n",
              "max_df : float in range [0.0, 1.0] or int, default=1.0\n",
              "    When building the vocabulary ignore terms that have a document\n",
              "    frequency strictly higher than the given threshold (corpus-specific\n",
              "    stop words).\n",
              "    If float, the parameter represents a proportion of documents, integer\n",
              "    absolute counts.\n",
              "    This parameter is ignored if vocabulary is not None.\n",
              "\n",
              "min_df : float in range [0.0, 1.0] or int, default=1\n",
              "    When building the vocabulary ignore terms that have a document\n",
              "    frequency strictly lower than the given threshold. This value is also\n",
              "    called cut-off in the literature.\n",
              "    If float, the parameter represents a proportion of documents, integer\n",
              "    absolute counts.\n",
              "    This parameter is ignored if vocabulary is not None.\n",
              "\n",
              "max_features : int, default=None\n",
              "    If not None, build a vocabulary that only consider the top\n",
              "    `max_features` ordered by term frequency across the corpus.\n",
              "    Otherwise, all features are used.\n",
              "\n",
              "    This parameter is ignored if vocabulary is not None.\n",
              "\n",
              "vocabulary : Mapping or iterable, default=None\n",
              "    Either a Mapping (e.g., a dict) where keys are terms and values are\n",
              "    indices in the feature matrix, or an iterable over terms. If not\n",
              "    given, a vocabulary is determined from the input documents. Indices\n",
              "    in the mapping should not be repeated and should not have any gap\n",
              "    between 0 and the largest index.\n",
              "\n",
              "binary : bool, default=False\n",
              "    If True, all non zero counts are set to 1. This is useful for discrete\n",
              "    probabilistic models that model binary events rather than integer\n",
              "    counts.\n",
              "\n",
              "dtype : dtype, default=np.int64\n",
              "    Type of the matrix returned by fit_transform() or transform().\n",
              "\n",
              "Attributes\n",
              "----------\n",
              "vocabulary_ : dict\n",
              "    A mapping of terms to feature indices.\n",
              "\n",
              "fixed_vocabulary_ : bool\n",
              "    True if a fixed vocabulary of term to indices mapping\n",
              "    is provided by the user.\n",
              "\n",
              "stop_words_ : set\n",
              "    Terms that were ignored because they either:\n",
              "\n",
              "      - occurred in too many documents (`max_df`)\n",
              "      - occurred in too few documents (`min_df`)\n",
              "      - were cut off by feature selection (`max_features`).\n",
              "\n",
              "    This is only available if no vocabulary was given.\n",
              "\n",
              "See Also\n",
              "--------\n",
              "HashingVectorizer : Convert a collection of text documents to a\n",
              "    matrix of token counts.\n",
              "\n",
              "TfidfVectorizer : Convert a collection of raw documents to a matrix\n",
              "    of TF-IDF features.\n",
              "\n",
              "Notes\n",
              "-----\n",
              "The ``stop_words_`` attribute can get large and increase the model size\n",
              "when pickling. This attribute is provided only for introspection and can\n",
              "be safely removed using delattr or set to None before pickling.\n",
              "\n",
              "Examples\n",
              "--------\n",
              "&gt;&gt;&gt; from sklearn.feature_extraction.text import CountVectorizer\n",
              "&gt;&gt;&gt; corpus = [\n",
              "...     &#x27;This is the first document.&#x27;,\n",
              "...     &#x27;This document is the second document.&#x27;,\n",
              "...     &#x27;And this is the third one.&#x27;,\n",
              "...     &#x27;Is this the first document?&#x27;,\n",
              "... ]\n",
              "&gt;&gt;&gt; vectorizer = CountVectorizer()\n",
              "&gt;&gt;&gt; X = vectorizer.fit_transform(corpus)\n",
              "&gt;&gt;&gt; vectorizer.get_feature_names_out()\n",
              "array([&#x27;and&#x27;, &#x27;document&#x27;, &#x27;first&#x27;, &#x27;is&#x27;, &#x27;one&#x27;, &#x27;second&#x27;, &#x27;the&#x27;, &#x27;third&#x27;,\n",
              "       &#x27;this&#x27;], ...)\n",
              "&gt;&gt;&gt; print(X.toarray())\n",
              "[[0 1 1 1 0 0 1 0 1]\n",
              " [0 2 0 1 0 1 1 0 1]\n",
              " [1 0 0 1 1 0 1 1 1]\n",
              " [0 1 1 1 0 0 1 0 1]]\n",
              "&gt;&gt;&gt; vectorizer2 = CountVectorizer(analyzer=&#x27;word&#x27;, ngram_range=(2, 2))\n",
              "&gt;&gt;&gt; X2 = vectorizer2.fit_transform(corpus)\n",
              "&gt;&gt;&gt; vectorizer2.get_feature_names_out()\n",
              "array([&#x27;and this&#x27;, &#x27;document is&#x27;, &#x27;first document&#x27;, &#x27;is the&#x27;, &#x27;is this&#x27;,\n",
              "       &#x27;second document&#x27;, &#x27;the first&#x27;, &#x27;the second&#x27;, &#x27;the third&#x27;, &#x27;third one&#x27;,\n",
              "       &#x27;this document&#x27;, &#x27;this is&#x27;, &#x27;this the&#x27;], ...)\n",
              " &gt;&gt;&gt; print(X2.toarray())\n",
              " [[0 0 1 1 0 0 1 0 0 0 0 1 0]\n",
              " [0 1 0 1 0 1 0 1 0 0 1 0 0]\n",
              " [1 0 0 1 0 0 0 0 1 1 0 1 0]\n",
              " [0 0 1 0 1 0 1 0 0 0 0 0 1]]</pre>\n",
              "      <script>\n",
              "      if (google.colab.kernel.accessAllowed && google.colab.files && google.colab.files.view) {\n",
              "        for (const element of document.querySelectorAll('.filepath')) {\n",
              "          element.style.display = 'block'\n",
              "          element.onclick = (event) => {\n",
              "            event.preventDefault();\n",
              "            event.stopPropagation();\n",
              "            google.colab.files.view(element.textContent, 931);\n",
              "          };\n",
              "        }\n",
              "      }\n",
              "      for (const element of document.querySelectorAll('.function-repr-contents')) {\n",
              "        element.onclick = (event) => {\n",
              "          event.preventDefault();\n",
              "          event.stopPropagation();\n",
              "          element.classList.toggle('function-repr-contents-collapsed');\n",
              "        };\n",
              "      }\n",
              "      </script>\n",
              "      </div>"
            ]
          },
          "metadata": {},
          "execution_count": 85
        }
      ]
    },
    {
      "cell_type": "code",
      "source": [
        "vectorizer=CountVectorizer()\n",
        "\n",
        "corpus = [\n",
        "       'This is the first document.',\n",
        "     'This is the second second document.',\n",
        "     'And the third one.',\n",
        "     'Is this the first document?',\n",
        " ]\n",
        "\n",
        "X = vectorizer.fit_transform(corpus)\n",
        "print(vectorizer.get_feature_names_out())\n",
        "X.toarray()"
      ],
      "metadata": {
        "id": "-K5DjDM_wMH4",
        "outputId": "6d447f1c-571a-427b-b395-fab4584e472a",
        "colab": {
          "base_uri": "https://localhost:8080/"
        }
      },
      "execution_count": 112,
      "outputs": [
        {
          "output_type": "stream",
          "name": "stdout",
          "text": [
            "['and' 'document' 'first' 'is' 'one' 'second' 'the' 'third' 'this']\n"
          ]
        },
        {
          "output_type": "execute_result",
          "data": {
            "text/plain": [
              "array([[0, 1, 1, 1, 0, 0, 1, 0, 1],\n",
              "       [0, 1, 0, 1, 0, 2, 1, 0, 1],\n",
              "       [1, 0, 0, 0, 1, 0, 1, 1, 0],\n",
              "       [0, 1, 1, 1, 0, 0, 1, 0, 1]])"
            ]
          },
          "metadata": {},
          "execution_count": 112
        }
      ]
    },
    {
      "cell_type": "code",
      "source": [],
      "metadata": {
        "id": "Jum1hM7k0Rtn"
      },
      "execution_count": null,
      "outputs": []
    },
    {
      "cell_type": "code",
      "source": [
        "X.toarray()"
      ],
      "metadata": {
        "id": "jbMLdVeeynF2",
        "outputId": "21803304-7ed3-4515-ec9a-e5d971e00115",
        "colab": {
          "base_uri": "https://localhost:8080/"
        }
      },
      "execution_count": 97,
      "outputs": [
        {
          "output_type": "execute_result",
          "data": {
            "text/plain": [
              "array([[0, 1, 1, 1, 0, 0, 1, 0, 1],\n",
              "       [0, 1, 0, 1, 0, 2, 1, 0, 1],\n",
              "       [1, 0, 0, 0, 1, 0, 1, 1, 0],\n",
              "       [0, 1, 1, 1, 0, 0, 1, 0, 1]])"
            ]
          },
          "metadata": {},
          "execution_count": 97
        }
      ]
    },
    {
      "cell_type": "code",
      "source": [
        "corp_tok=word_tokenize(','.join(corpus))\n",
        "corp_wo_stp = filter_stopwords(corp_tok)\n",
        "set(corp_tok)"
      ],
      "metadata": {
        "id": "QRN0ngQ4xnX_",
        "outputId": "a91760c5-6889-45c5-c8e8-19dac53f1963",
        "colab": {
          "base_uri": "https://localhost:8080/"
        }
      },
      "execution_count": 95,
      "outputs": [
        {
          "output_type": "execute_result",
          "data": {
            "text/plain": [
              "{',',\n",
              " '?',\n",
              " 'And',\n",
              " 'Is',\n",
              " 'This',\n",
              " 'document',\n",
              " 'document.',\n",
              " 'first',\n",
              " 'is',\n",
              " 'one.',\n",
              " 'second',\n",
              " 'the',\n",
              " 'third',\n",
              " 'this'}"
            ]
          },
          "metadata": {},
          "execution_count": 95
        }
      ]
    },
    {
      "cell_type": "code",
      "source": [],
      "metadata": {
        "id": "X1CxHSzRyUpy"
      },
      "execution_count": null,
      "outputs": []
    }
  ]
}