{
  "nbformat": 4,
  "nbformat_minor": 0,
  "metadata": {
    "colab": {
      "provenance": [],
      "mount_file_id": "https://github.com/farrukh602/NLP/blob/main/Basics/sincerity_insincerity_classification.ipynb",
      "authorship_tag": "ABX9TyOGv1kWKKnE5mchC9f9Ec5h"
    },
    "kernelspec": {
      "name": "python3",
      "display_name": "Python 3"
    },
    "language_info": {
      "name": "python"
    }
  },
  "cells": [
    {
      "cell_type": "markdown",
      "source": [
        "## Data download"
      ],
      "metadata": {
        "id": "LSGg4A05Gvjc"
      }
    },
    {
      "cell_type": "code",
      "execution_count": 10,
      "metadata": {
        "id": "yiMRGbrGDlVp",
        "outputId": "a7703164-4056-4087-8062-a9469e91b469",
        "colab": {
          "base_uri": "https://localhost:8080/"
        }
      },
      "outputs": [
        {
          "output_type": "stream",
          "name": "stdout",
          "text": [
            "quora-insincere-questions-classification.zip: Skipping, found more recently modified local copy (use --force to force download)\n"
          ]
        }
      ],
      "source": [
        "data_set='kaggle competitions download -c quora-insincere-questions-classification'\n",
        "\n",
        "if not '/./kaggle.json':\n",
        "  from google.colab import files\n",
        "  files.upload()\n",
        "  !mkdir ~/.kaggle\n",
        "  !cp kaggle.json ~/.kaggle/\n",
        "  !chmod 600 ~/.kaggle/kaggle.json\n",
        "  !{data_set}\n",
        "  !unzip -q quora-insincere-questions-classification\n",
        "else:\n",
        "  !{data_set}\n",
        "  !unzip -q quora-insincere-questions-classification.zip"
      ]
    },
    {
      "cell_type": "code",
      "source": [],
      "metadata": {
        "id": "O-71gNVYHxnC"
      },
      "execution_count": null,
      "outputs": []
    }
  ]
}