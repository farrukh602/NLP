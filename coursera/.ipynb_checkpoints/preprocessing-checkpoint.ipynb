{
 "cells": [
  {
   "cell_type": "code",
   "execution_count": 1,
   "id": "26dbe954-694d-423b-8039-cd16d4c9ed48",
   "metadata": {},
   "outputs": [],
   "source": [
    "import nltk\n",
    "from nltk.corpus import twitter_samples\n",
    "import matplotlib.pyplot as plt\n",
    "import numpy as np"
   ]
  },
  {
   "cell_type": "code",
   "execution_count": 7,
   "id": "f4d89555-0398-4c95-a4ee-3c759cf05770",
   "metadata": {},
   "outputs": [
    {
     "name": "stderr",
     "output_type": "stream",
     "text": [
      "[nltk_data] Downloading package twitter_samples to\n",
      "[nltk_data]     C:\\Users\\Pakistan\\AppData\\Roaming\\nltk_data...\n",
      "[nltk_data]   Unzipping corpora\\twitter_samples.zip.\n"
     ]
    },
    {
     "data": {
      "text/plain": [
       "True"
      ]
     },
     "execution_count": 7,
     "metadata": {},
     "output_type": "execute_result"
    }
   ],
   "source": [
    "#download the dataset\n",
    "nltk.download('twitter_samples')"
   ]
  },
  {
   "cell_type": "markdown",
   "id": "e3e17479-b3a2-43f4-9d8b-3a41b7744947",
   "metadata": {},
   "source": [
    "`twitter_samples` dataset consists of labeled positive and negative tweets with equal proportion. A balanced dataset"
   ]
  },
  {
   "cell_type": "code",
   "execution_count": 3,
   "id": "f79e2810-f59f-4f43-ae8d-3a71b7f3f1e2",
   "metadata": {
    "scrolled": true
   },
   "outputs": [
    {
     "name": "stdout",
     "output_type": "stream",
     "text": [
      "No. of positive tweets 5000\n",
      "No. of negative tweets 5000\n"
     ]
    }
   ],
   "source": [
    "# loading positive and negative tweets\n",
    "positive_twts=twitter_samples.strings('positive_tweets.json')\n",
    "negative_twts = twitter_samples.strings('negative_tweets.json')\n",
    "\n",
    "print('No. of positive tweets',len(positive_twts))\n",
    "print('No. of negative tweets', len(negative_twts))"
   ]
  },
  {
   "cell_type": "code",
   "execution_count": 4,
   "id": "74e4fda3-b1ba-4146-97f1-31937d368869",
   "metadata": {},
   "outputs": [
    {
     "data": {
      "image/png": "[encoded data removed]",
      "text/plain": [
       "<Figure size 500x500 with 1 Axes>"
      ]
     },
     "metadata": {},
     "output_type": "display_data"
    }
   ],
   "source": [
    "# visualize distribution of data using pie chart\n",
    "fig = plt.figure(figsize=(5,5))\n",
    "\n",
    "labels= 'Positives', 'Negatives'\n",
    "sizes = [len(positive_twts), len(negative_twts)]\n",
    "# plt.pie(sizes, labels, autopct = '%1.1f%%')\n",
    "plt.pie(sizes, labels=labels, autopct='%1.1f%%',\n",
    "        shadow=True, startangle=90)\n",
    "plt.axis('equal')\n",
    "plt.show()"
   ]
  },
  {
   "cell_type": "markdown",
   "id": "b402703e-f743-40a4-9a97-13b89986ceaa",
   "metadata": {},
   "source": [
    "# Processing the raw text"
   ]
  },
  {
   "cell_type": "code",
   "execution_count": 6,
   "id": "264c59c8-51a8-45e8-8c3c-e0e1defd3c5c",
   "metadata": {},
   "outputs": [],
   "source": [
    "import re\n",
    "import string\n",
    "\n",
    "from nltk.corpus import stopwords\n",
    "from nltk.stem import PorterStemmer\n",
    "from nltk.tokenize import TweetTokenizer # "
   ]
  },
  {
   "cell_type": "markdown",
   "id": "30e626ae-f106-4038-a550-eddd5e43e31f",
   "metadata": {},
   "source": [
    "## Remove hyperlinks, Twitter marks and styles and stemming"
   ]
  },
  {
   "cell_type": "code",
   "execution_count": 70,
   "id": "9d074fbe-8472-4d10-8b85-ce220f38707f",
   "metadata": {
    "scrolled": true
   },
   "outputs": [],
   "source": [
    "\n",
    "\n",
    "def process_tweet(tweet):\n",
    "    # remove old style retweet text 'RT'\n",
    "    tweet=re.sub(r'^RT[\\s]+','',tweet)\n",
    "    # remove hyperlinks\n",
    "    tweet = re.sub(r'https?://[^\\s\\n\\r]+','',tweet)\n",
    "    # remove hastags\n",
    "    tweet = re.sub(r'#','',tweet)\n",
    "\n",
    "    # tokenization\n",
    "    tokenizer = TweetTokenizer(preserve_case=False,\n",
    "                              strip_handles=True,\n",
    "                              reduce_len=True)\n",
    "    tweet_tokens=tokenizer.tokenize(tweet)\n",
    "\n",
    "    # removing the stop wods and punctuations\n",
    "    stop_words = stopwords.words('english')\n",
    "    tweet_clean = [word for word in tweet_tokens if word not in stop_words and word not in string.punctuation]\n",
    "\n",
    "    # stemming the tweet words\n",
    "    stemmer=PorterStemmer()\n",
    "    stemmed_tweet = [stemmer.stem(word) for word in tweet_clean]\n",
    "    \n",
    "    \n",
    "    return stemmed_tweet\n",
    "    "
   ]
  },
  {
   "cell_type": "code",
   "execution_count": 71,
   "id": "23dae6c7-d338-4789-879b-56de18a61d50",
   "metadata": {},
   "outputs": [
    {
     "data": {
      "text/plain": [
       "['beauti',\n",
       " 'sunflow',\n",
       " 'sunni',\n",
       " 'friday',\n",
       " 'morn',\n",
       " ':)',\n",
       " 'sunflow',\n",
       " 'favourit',\n",
       " 'happi',\n",
       " 'friday',\n",
       " '…']"
      ]
     },
     "execution_count": 71,
     "metadata": {},
     "output_type": "execute_result"
    }
   ],
   "source": [
    "processed_tweet=process_tweet(positive_twts[2277])\n",
    "processed_tweet"
   ]
  },
  {
   "cell_type": "code",
   "execution_count": null,
   "id": "0edc4daf-f5f8-4aa9-a911-c66df08f996c",
   "metadata": {},
   "outputs": [],
   "source": []
  }
 ],
 "metadata": {
  "kernelspec": {
   "display_name": "Python 3 (ipykernel)",
   "language": "python",
   "name": "python3"
  },
  "language_info": {
   "codemirror_mode": {
    "name": "ipython",
    "version": 3
   },
   "file_extension": ".py",
   "mimetype": "text/x-python",
   "name": "python",
   "nbconvert_exporter": "python",
   "pygments_lexer": "ipython3",
   "version": "3.12.2"
  }
 },
 "nbformat": 4,
 "nbformat_minor": 5
}
